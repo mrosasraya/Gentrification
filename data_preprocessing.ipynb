{
 "cells": [
  {
   "cell_type": "code",
   "execution_count": 2,
   "id": "dirty-cylinder",
   "metadata": {},
   "outputs": [],
   "source": [
    "import pandas as pd\n",
    "from openpyxl import load_workbook\n",
    "\n",
    "def read_table (file_name, sheet=0, header_row=0):\n",
    "    split_name = file_name.split(\".\")\n",
    "    file_type = split_name[len(split_name)-1]\n",
    "    if file_type == 'xls':\n",
    "        file = pd.read_excel (file_name, sheet_name = sheet, header = header_row)\n",
    "    elif file_type == 'xlsx' :\n",
    "        wb = load_workbook(file_name)\n",
    "        ws = wb[wb.sheetnames[sheet]]\n",
    "        file = pd.DataFrame(ws.values)\n",
    "        file.columns = file.iloc[header_row]\n",
    "        file =file[header_row+1:]\n",
    "    elif file_type == 'csv':\n",
    "        file = pd.read_csv(file_name)\n",
    "    else:\n",
    "        file =  pd.DataFrame(columns=['colum'])\n",
    "    return file\n",
    "\n",
    "def merge_str(left_df, right_df, left_col, right_col, how):\n",
    "    right_df.rename(columns={right_col: left_col}, inplace=True)\n",
    "    right_df[left_col] = right_df[left_col].astype(str)\n",
    "    left_df[left_col] = left_df[left_col].astype(str)\n",
    "    left_df = pd.merge(left_df, right_df, how=how, on=left_col)\n",
    "    return left_df\n",
    "\n",
    "def load_trim_attr(file_name, columns, filter_path, column_name, sheet=0, header_row=0, code=0):\n",
    "    # Read attribute file\n",
    "    file = read_table(file_name, sheet, header_row)\n",
    "    # Read filter units file\n",
    "    filter_units = read_table(filter_path)\n",
    "    code_header = filter_units.columns[code]\n",
    "    filter_units[[code_header]]=filter_units[[code_header]].astype(str)\n",
    "    # Select only code of the geographic units and the number of dwellings as columns\n",
    "    cols= [list(file.columns)[i] for i in columns]\n",
    "    file_cols=file[cols]\n",
    "    # Rename columns\n",
    "    file_cols.columns = [code_header, cols[1]]\n",
    "    # Drop NaNs\n",
    "    file_cols.dropna(inplace =True)\n",
    "    # Delete blank spaces in the string\n",
    "    file_cols[code_header] = file_cols[code_header].astype(str)\n",
    "    file_cols[code_header] = file_cols[code_header].str.replace(' ', '')\n",
    "    # Apply geographic mask\n",
    "    result = pd.merge(file_cols, filter_units, how=\"right\", on=code_header)\n",
    "    # Rename variable of interest\n",
    "    result.rename(columns={cols[1]: column_name}, inplace=True)\n",
    "    return result"
   ]
  },
  {
   "cell_type": "code",
   "execution_count": null,
   "id": "dietary-carry",
   "metadata": {},
   "outputs": [],
   "source": []
  }
 ],
 "metadata": {
  "kernelspec": {
   "display_name": "Python 3",
   "language": "python",
   "name": "python3"
  },
  "language_info": {
   "codemirror_mode": {
    "name": "ipython",
    "version": 3
   },
   "file_extension": ".py",
   "mimetype": "text/x-python",
   "name": "python",
   "nbconvert_exporter": "python",
   "pygments_lexer": "ipython3",
   "version": "3.8.8"
  }
 },
 "nbformat": 4,
 "nbformat_minor": 5
}
