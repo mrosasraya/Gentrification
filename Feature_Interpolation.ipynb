{
 "cells": [
  {
   "cell_type": "code",
   "execution_count": 1,
   "id": "separated-structure",
   "metadata": {},
   "outputs": [],
   "source": [
    "import warnings\n",
    "\n",
    "import pandas as pd\n",
    "import geopandas as gpd\n",
    "import matplotlib.pyplot as plt\n",
    "from tobler.dasymetric import masked_area_interpolate\n",
    "from tobler.model import glm\n",
    "from tobler.area_weighted import area_interpolate\n",
    "from openpyxl import load_workbook\n",
    "\n",
    "from data_preprocessing import read_table, merge_str, load_trim_attr\n",
    "\n",
    "warnings.filterwarnings('ignore')"
   ]
  },
  {
   "cell_type": "code",
   "execution_count": 2,
   "id": "broadband-board",
   "metadata": {},
   "outputs": [],
   "source": [
    "# Function to get the index of columns\n",
    "\n",
    "def get_column_number(file_path, column_name):\n",
    "    \n",
    "    df = read_table(file_path)\n",
    "    \n",
    "    i=0\n",
    "    for column in df:\n",
    "        if str(column) == column_name:\n",
    "            break\n",
    "        i = i+ 1\n",
    "        \n",
    "    return i"
   ]
  },
  {
   "cell_type": "code",
   "execution_count": 3,
   "id": "minimal-ecuador",
   "metadata": {},
   "outputs": [],
   "source": [
    "def save_geo_table(df, target_shp, table_name, path=''):\n",
    "    \n",
    "    polygons_column = df.geometry.name\n",
    "    interpolated_attr = df.merge(target_shp, on=polygons_column, how='left')\n",
    "    interpolated_attr.drop([polygons_column], axis=1, inplace = True)\n",
    "    interpolated_attr.to_csv(path + table_name + '.csv', index=False)\n",
    "    \n",
    "    return interpolated_attr"
   ]
  },
  {
   "cell_type": "code",
   "execution_count": 4,
   "id": "color-magnet",
   "metadata": {},
   "outputs": [],
   "source": [
    "def areal_interpolation(source_shp, target_shp, attribute_path, filter_path,\n",
    "                       attribute_name, columns_of_interest, pivot_col, shp_pivot_col,\n",
    "                       crs=7899, sheet_number=0, header_row=0, code_column=0):\n",
    "    \n",
    "    filtered_attr = load_trim_attr(attribute_path, \n",
    "                                   columns_of_interest, \n",
    "                                   filter_path, \n",
    "                                   attribute_name, \n",
    "                                   sheet_number, \n",
    "                                   header_row, \n",
    "                                   code = code_column)\n",
    "  \n",
    "    source_shp_attr = merge_str(source_shp, \n",
    "                                filtered_attr, \n",
    "                                pivot_col, \n",
    "                                pivot_col, \n",
    "                                how='right')\n",
    "    \n",
    "    source_shp_attr[attribute_name] = pd.to_numeric(source_shp_attr[attribute_name])\n",
    "    \n",
    "    interpolated_attr = area_interpolate(source_df=source_shp_attr, \n",
    "                                         target_df=target_shp,\n",
    "                                         intensive_variables=[attribute_name])\n",
    "    return interpolated_attr"
   ]
  },
  {
   "cell_type": "code",
   "execution_count": 5,
   "id": "important-projection",
   "metadata": {},
   "outputs": [],
   "source": [
    "def interpolate_db(index, source_shp_path, target_shp_path, filter_path, columns, year, pivot_col, \n",
    "                   shp_pivot_col, code_column=0, crs = 7899):\n",
    "    \n",
    "    #load shapefiles\n",
    "    source_shp = gpd.read_file(source_shp_path).to_crs(crs)\n",
    "    target_shp = gpd.read_file(target_shp_path).to_crs(crs)\n",
    "\n",
    "    #unify pivot columns' name\n",
    "    source_shp.rename(columns={shp_pivot_col: pivot_col}, inplace=True)\n",
    "\n",
    "    counter = 0    \n",
    "    for row in index[index.columns[columns]].iterrows():\n",
    "        \n",
    "        #get params for interpolation\n",
    "        feature_name = row[1][0]\n",
    "        feature_file = row[1][1]\n",
    "        if year == '2006':\n",
    "            \n",
    "            attribute_path = 'Data/Demographic_Features/2006/CD_Vic_' + str(feature_file) +'.csv'\n",
    "            feature_column =row[1][2]\n",
    "            \n",
    "        elif year == '2011':\n",
    "            \n",
    "            attribute_path = 'Data/Demographic_Features/2011/2011Census_' + str(feature_file) + \\\n",
    "                             '_VIC_SA1_short.csv'\n",
    "            feature_column =row[1][0]\n",
    "            \n",
    "        attribute_name = feature_name\n",
    "        columns_of_interest = [0,get_column_number(attribute_path, feature_column)]\n",
    "\n",
    "        #interpolate\n",
    "        result = areal_interpolation(source_shp, \n",
    "                                     target_shp, \n",
    "                                     attribute_path, \n",
    "                                     filter_path, \n",
    "                                     attribute_name, \n",
    "                                     columns_of_interest, \n",
    "                                     pivot_col, \n",
    "                                     shp_pivot_col, \n",
    "                                     code_column=code_column)\n",
    "        \n",
    "        #Store results\n",
    "        if counter == 0:\n",
    "            all_interp = result\n",
    "        else:\n",
    "            all_interp[attribute_name] = result[attribute_name]\n",
    "        counter = counter + 1\n",
    "\n",
    "    #save file    \n",
    "    target_shp = gpd.read_file(target_shp_path).to_crs(crs)\n",
    "    save_geo_table(all_interp,target_shp, 'all_features_inter_' + year)\n",
    "    \n",
    "    return all_interp"
   ]
  },
  {
   "cell_type": "code",
   "execution_count": 6,
   "id": "approved-messenger",
   "metadata": {},
   "outputs": [],
   "source": [
    "#Load list with location od source files\n",
    "\n",
    "feature_index = read_table('Data/Demographic_Features/index_reduced.xlsx')"
   ]
  },
  {
   "cell_type": "markdown",
   "id": "organic-advantage",
   "metadata": {},
   "source": [
    "# 2006"
   ]
  },
  {
   "cell_type": "code",
   "execution_count": null,
   "id": "complimentary-forge",
   "metadata": {},
   "outputs": [],
   "source": [
    "source_shp_path = 'Data/Shapefiles/un-trimmed/CCD_2006_Victoria/CD06aVIC.shp'\n",
    "target_shp_path = 'Data/Shapefiles/Great_Melbourne/SA1_2016_GM/SA1_2016_GM.shp'\n",
    "filter_path = 'Data/Geographical_Units/Great_Melbourne_Units/CCD_2006_GM.csv'\n",
    "columns = [[3,5,6]]\n",
    "year= '2006'\n",
    "pivot_col = 'CD_CODE06'\n",
    "shp_pivot_col = 'CD_CODE06'\n",
    "code_column = 0\n",
    "crs = 7899\n",
    "\n",
    "demo_ft_2006 = interpolate_db(feature_index, \n",
    "                              source_shp_path, \n",
    "                              target_shp_path, \n",
    "                              filter_path, \n",
    "                              columns,\n",
    "                              year, \n",
    "                              pivot_col, \n",
    "                              shp_pivot_col, \n",
    "                              code_column, \n",
    "                              crs)"
   ]
  },
  {
   "cell_type": "markdown",
   "id": "ready-alias",
   "metadata": {},
   "source": [
    "# 2011"
   ]
  },
  {
   "cell_type": "code",
   "execution_count": 200,
   "id": "editorial-rover",
   "metadata": {},
   "outputs": [],
   "source": [
    "source_shp_path = 'Data/Shapefiles/un-trimmed/SA1_2011_Australia/SA1_2011_AUST.shp'\n",
    "target_shp_path = 'Data/Shapefiles/Great_Melbourne/SA1_2016_GM/SA1_2016_GM.shp'\n",
    "filter_path = 'Data/Geographical_Units/Great_Melbourne_Units/SA1_2011_GM.csv'\n",
    "columns = [[7,9,10]]\n",
    "year = '2011'\n",
    "pivot_col = 'SA1_7DIGITCODE_2011'\n",
    "shp_pivot_col = 'SA1_7DIG11'\n",
    "code_column = 1\n",
    "crs = 7899\n",
    "\n",
    "dummy_2011 = interpolate_db(feature_index, \n",
    "                            source_shp_path, \n",
    "                            target_shp_path, \n",
    "                            filter_path, \n",
    "                            columns,\n",
    "                            year, \n",
    "                            pivot_col, \n",
    "                            shp_pivot_col, \n",
    "                            code_column, \n",
    "                            crs)"
   ]
  }
 ],
 "metadata": {
  "kernelspec": {
   "display_name": "Python 3",
   "language": "python",
   "name": "python3"
  },
  "language_info": {
   "codemirror_mode": {
    "name": "ipython",
    "version": 3
   },
   "file_extension": ".py",
   "mimetype": "text/x-python",
   "name": "python",
   "nbconvert_exporter": "python",
   "pygments_lexer": "ipython3",
   "version": "3.8.8"
  }
 },
 "nbformat": 4,
 "nbformat_minor": 5
}
