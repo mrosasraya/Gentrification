{
 "cells": [
  {
   "cell_type": "code",
   "execution_count": 2,
   "id": "interior-evaluation",
   "metadata": {},
   "outputs": [],
   "source": [
    "import warnings\n",
    "\n",
    "import pandas as pd\n",
    "import matplotlib.pyplot as plt\n",
    "from openpyxl import load_workbook\n",
    "from sklearn import preprocessing\n",
    "\n",
    "from data_preprocessing import read_table, merge_str\n",
    "\n",
    "warnings.filterwarnings('ignore')"
   ]
  },
  {
   "cell_type": "markdown",
   "id": "allied-voluntary",
   "metadata": {},
   "source": [
    "# Binary Prediction of Gentrified Tracts in Melbourne"
   ]
  },
  {
   "cell_type": "markdown",
   "id": "asian-enzyme",
   "metadata": {},
   "source": [
    "This notebooks seeks to ensamble the set of features required to inform a machine-learning model in order to best classify the tracts or SA1 (2016 definition) in gentrified or non-gentrified. The training labels were obtained following Freeman's 5-step definition of gentrified areas."
   ]
  },
  {
   "cell_type": "code",
   "execution_count": 3,
   "id": "tired-grade",
   "metadata": {},
   "outputs": [],
   "source": [
    "def normalize(df, ft_list):\n",
    "    \n",
    "    for feature in ft_list:\n",
    "        min_max_scaler = preprocessing.MinMaxScaler()\n",
    "        feature_scaled = min_max_scaler.fit_transform(df[[feature]])\n",
    "        df[feature+'_normalized']= feature_scaled\n",
    "        \n",
    "    return  df"
   ]
  },
  {
   "cell_type": "markdown",
   "id": "curious-africa",
   "metadata": {},
   "source": [
    "# 2006 - 2016"
   ]
  },
  {
   "cell_type": "markdown",
   "id": "external-medicine",
   "metadata": {},
   "source": [
    "## Process Public Transport Features"
   ]
  },
  {
   "cell_type": "markdown",
   "id": "objective-contrary",
   "metadata": {},
   "source": [
    "### Tram "
   ]
  },
  {
   "cell_type": "code",
   "execution_count": 8,
   "id": "brutal-submission",
   "metadata": {},
   "outputs": [],
   "source": [
    "# Calculate the inverse of distance to closest stop for decay function\n",
    "closest_stops = read_table('Data/PT_Network_Features/tracts_closest_tram_train_stops_2006.csv')\n",
    "\n",
    "closest_stops['dist_closest_stop_Tram']= 1/closest_stops['dist_closest_stop_Tram']\n",
    "closest_stops['dist_closest_stop_Train']= 1/closest_stops['dist_closest_stop_Train']\n",
    "\n",
    "# Normalize the inverse of distance to closest stop\n",
    "closest_stops = normalize(closest_stops, ['dist_closest_stop_Tram', 'dist_closest_stop_Train'])\n",
    "\n",
    "# Merge tracts and the Network Properties of their closest tram stop\n",
    "tram_properties = read_table('Data/PT_Network_Features/tram_properties_all_years.xlsx')\n",
    "\n",
    "tram_features = merge_str(closest_stops[['SA1_MAINCO', \n",
    "                                         'SA1_7DIG16', \n",
    "                                         'closest_stop_Tram',\n",
    "                                         'dist_closest_stop_Tram_normalized']], \n",
    "                          tram_properties[['STOP_ID',\n",
    "                                         'Degree',\n",
    "                                         'Betweenness', \n",
    "                                         'Closeness']], \n",
    "                          'closest_stop_Tram', \n",
    "                          'STOP_ID', \n",
    "                          how='left')\n",
    "\n",
    "#  Apply decay function to the properties of the closest stations to each tract\n",
    "for feature in ['Degree','Betweenness', 'Closeness']:\n",
    "    \n",
    "    tram_features[feature] = pd.to_numeric(tram_features[feature])\n",
    "    tram_features[feature+'_tram_decayed'] = tram_features['dist_closest_stop_Tram_normalized']  \\\n",
    "                                             * tram_features[feature]\n",
    "    \n",
    "tram_features = tram_features[['SA1_MAINCO', \n",
    "                               'SA1_7DIG16',\n",
    "                               'Degree_tram_decayed', \n",
    "                               'Betweenness_tram_decayed',\n",
    "                               'Closeness_tram_decayed']]"
   ]
  },
  {
   "cell_type": "markdown",
   "id": "textile-language",
   "metadata": {},
   "source": [
    "### Train"
   ]
  },
  {
   "cell_type": "code",
   "execution_count": 9,
   "id": "arctic-collar",
   "metadata": {},
   "outputs": [],
   "source": [
    "# Merge tracts and the Network Properties of their closest tram stop\n",
    "train_properties = read_table('Data/PT_Network_Features/train_properties_2006.xlsx')\n",
    "\n",
    "train_features = merge_str(closest_stops[['SA1_MAINCO', \n",
    "                                          'SA1_7DIG16', \n",
    "                                          'closest_stop_Train',\n",
    "                                          'dist_closest_stop_Train_normalized']], \n",
    "                           train_properties[['STOP_ID',\n",
    "                                          'Degree',\n",
    "                                          'Betweenness', \n",
    "                                          'Closeness']], \n",
    "                           'closest_stop_Train', \n",
    "                           'STOP_ID', \n",
    "                           how='left')\n",
    "\n",
    "#  Apply decay function to the properties of the closest stations to each tract\n",
    "for feature in ['Degree','Betweenness', 'Closeness']:\n",
    "    \n",
    "    train_features[feature] = pd.to_numeric(train_features[feature])\n",
    "    train_features[feature+'_train_decayed'] = train_features['dist_closest_stop_Train_normalized']  \\\n",
    "                                              * train_features[feature]\n",
    "    \n",
    "train_features = train_features[['SA1_MAINCO', \n",
    "                                 'SA1_7DIG16',\n",
    "                                 'Degree_train_decayed', \n",
    "                                 'Betweenness_train_decayed',\n",
    "                                 'Closeness_train_decayed']] "
   ]
  },
  {
   "cell_type": "markdown",
   "id": "female-natural",
   "metadata": {},
   "source": [
    "## Demographic Features"
   ]
  },
  {
   "cell_type": "code",
   "execution_count": 10,
   "id": "southern-cheat",
   "metadata": {},
   "outputs": [],
   "source": [
    "demo_features = read_table('Data/Demographic_Features/all_features_inter_2006.csv')\n",
    "\n",
    "for col in  demo_features.columns:\n",
    "    \n",
    "    demo_features[col] = pd.to_numeric(demo_features[col], errors='coerce')"
   ]
  },
  {
   "cell_type": "markdown",
   "id": "extensive-sarah",
   "metadata": {},
   "source": [
    "## Labels"
   ]
  },
  {
   "cell_type": "code",
   "execution_count": 11,
   "id": "universal-farming",
   "metadata": {},
   "outputs": [],
   "source": [
    "labels = read_table('Data/Gentrification_Labels/labels_2006_2016.csv')"
   ]
  },
  {
   "cell_type": "code",
   "execution_count": null,
   "id": "collectible-representative",
   "metadata": {},
   "outputs": [],
   "source": []
  }
 ],
 "metadata": {
  "kernelspec": {
   "display_name": "Python 3",
   "language": "python",
   "name": "python3"
  },
  "language_info": {
   "codemirror_mode": {
    "name": "ipython",
    "version": 3
   },
   "file_extension": ".py",
   "mimetype": "text/x-python",
   "name": "python",
   "nbconvert_exporter": "python",
   "pygments_lexer": "ipython3",
   "version": "3.8.8"
  }
 },
 "nbformat": 4,
 "nbformat_minor": 5
}
