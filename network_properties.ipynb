{
 "cells": [
  {
   "cell_type": "code",
   "execution_count": 193,
   "id": "exact-party",
   "metadata": {},
   "outputs": [],
   "source": [
    "import warnings\n",
    "\n",
    "import geopandas as gpd\n",
    "import networkx as nx\n",
    "import matplotlib.pyplot as plt\n",
    "import pandas as pd\n",
    "from openpyxl import load_workbook\n",
    "\n",
    "warnings.filterwarnings('ignore')"
   ]
  },
  {
   "cell_type": "markdown",
   "id": "minus-dylan",
   "metadata": {},
   "source": [
    "# Find closest Train Station and Tram Stop to Tracts' centroids"
   ]
  },
  {
   "cell_type": "markdown",
   "id": "gentle-perth",
   "metadata": {},
   "source": [
    "The cirty of Melbourne is dived in tracts formally known as Statistical Areas Level 1 (SA1), each of said tracts is a polygon. We seek to asociate all tracts with the topolofical characteristics of the stations closest to them. The closest tram stops and the closest train station. The influence of any other stop/station that is not that of the easiest access is ignored. This access is defines by the distance between a station and the centroid of a tract."
   ]
  },
  {
   "cell_type": "code",
   "execution_count": 194,
   "id": "entitled-storage",
   "metadata": {},
   "outputs": [],
   "source": [
    "crs = 7899\n",
    "tracts_df = gpd.read_file('Data/Shapefiles/Great_Melbourne/SA1_2016_GM/SA1_2016_GM.shp').to_crs(crs)\n",
    "tram_df = gpd.read_file('Data/Shapefiles/Public_Transport/tram_open_vic/PTV/PTV_METRO_TRAM_STOP.shp') \\\n",
    "          .to_crs(crs)\n",
    "\n",
    "# Calculate the centroid of each tract-polygon\n",
    "tracts_df['centroids'] = tracts_df['geometry'].centroid"
   ]
  },
  {
   "cell_type": "code",
   "execution_count": 195,
   "id": "cultural-grenada",
   "metadata": {
    "scrolled": false
   },
   "outputs": [],
   "source": [
    "# Function to find the closest stop to the centroid of a tract\n",
    "\n",
    "def closest_stop (polygons, stops, col_stop_ID, name = ''):\n",
    "    \n",
    "    name1 = 'closest_stop_' + name\n",
    "    name2 = 'dist_closest_stop_' + name\n",
    "    closest_stops = []\n",
    "    closest_dist = []\n",
    "    for unit in polygons['centroids']:\n",
    "        \n",
    "        distances = stops['geometry'].distance(unit)\n",
    "        shortest = min(distances)\n",
    "        position = distances.index[distances == shortest].tolist()\n",
    "        closest_stops.append(stops.loc[position,col_stop_ID].values[0])\n",
    "        closest_dist.append(shortest)\n",
    "        \n",
    "    polygons[name1] = closest_stops\n",
    "    polygons[name2] = closest_dist\n",
    "    \n",
    "    return polygons"
   ]
  },
  {
   "cell_type": "markdown",
   "id": "contained-national",
   "metadata": {},
   "source": [
    "## 2011 and 2016"
   ]
  },
  {
   "cell_type": "code",
   "execution_count": 196,
   "id": "specialized-findings",
   "metadata": {},
   "outputs": [],
   "source": [
    "tracts_stops_df = closest_stop(tracts_df, \n",
    "                               tram_df, \n",
    "                               col_stop_ID ='STOP_ID',\n",
    "                               name='Tram')\n",
    "\n",
    "train_df = gpd.read_file('Data/Shapefiles/Public_Transport/train_aurin/shp/' \n",
    "                         + '4e0dbd07-7f8b-4da8-9c7f-1a84d2ab27fc.shp').to_crs(crs)\n",
    "\n",
    "tracts_tram_train = closest_stop(tracts_stops_df, \n",
    "                                 train_df, \n",
    "                                 col_stop_ID ='STOP_ID', \n",
    "                                 name='Train')"
   ]
  },
  {
   "cell_type": "code",
   "execution_count": 112,
   "id": "nuclear-uzbekistan",
   "metadata": {},
   "outputs": [],
   "source": [
    "#tracts_tram_train.to_csv('tracts_closest_tram_train_stops_11_16.csv')"
   ]
  },
  {
   "cell_type": "markdown",
   "id": "technological-petroleum",
   "metadata": {},
   "source": [
    "## 2006"
   ]
  },
  {
   "cell_type": "code",
   "execution_count": 197,
   "id": "charming-transaction",
   "metadata": {},
   "outputs": [],
   "source": [
    "# Tram stations are considered to remain unchanged in all three census years\n",
    "tracts_stops_df = closest_stop(tracts_df, \n",
    "                               tram_df, \n",
    "                               col_stop_ID ='STOP_ID', \n",
    "                               name='Tram')\n",
    "\n",
    "# Use mask of existing train stations in 2006\n",
    "train_df = gpd.read_file('Data/Shapefiles/Public_Transport/train_aurin/shp/' +\n",
    "                         '4e0dbd07-7f8b-4da8-9c7f-1a84d2ab27fc.shp').to_crs(crs)\n",
    "\n",
    "mask_train_stops_2006 = pd.read_csv('Data/PT_Network_Features/train_stops_2006.csv')\n",
    "\n",
    "train_df_trimmed = merge_str(train_df, \n",
    "                             mask_train_stops_2006[['STOP_ID']], \n",
    "                             'STOP_ID', \n",
    "                             'STOP_ID', \n",
    "                             how='right')\n",
    "\n",
    "tracts_tram_train_2006 = closest_stop(tracts_stops_df, \n",
    "                                      train_df_trimmed, \n",
    "                                      col_stop_ID ='STOP_ID', \n",
    "                                      name='Train')"
   ]
  },
  {
   "cell_type": "code",
   "execution_count": 191,
   "id": "occupied-maine",
   "metadata": {},
   "outputs": [],
   "source": [
    "#tracts_tram_train_2006.to_csv('tracts_closest_tram_train_stops_2006.csv')"
   ]
  },
  {
   "cell_type": "markdown",
   "id": "extraordinary-secretariat",
   "metadata": {},
   "source": [
    "# Network construction and properties"
   ]
  },
  {
   "cell_type": "code",
   "execution_count": 165,
   "id": "nervous-portable",
   "metadata": {},
   "outputs": [],
   "source": [
    "# Function to obtain a dataframe with the centrality measures given a set of edges in a file\n",
    "\n",
    "def properties_from_edges(file_path, sheet=0, header_row=0, cols=[0,1]):\n",
    "    edges_df = read_table(file_path, sheet=1)\n",
    "    \n",
    "    PT_net = nx.Graph()\n",
    "    \n",
    "    # load edges of the undirected graph\n",
    "    for index, row in edges_df.iterrows():\n",
    "        PT_net.add_edge(row[cols[0]],row[cols[1]])\n",
    "    \n",
    "    # Get centrality measures\n",
    "    dict_bet = nx.betweenness_centrality(PT_net)\n",
    "    dict_clos = nx.closeness_centrality(PT_net)\n",
    "    dict_deg = nx.degree_centrality(PT_net)\n",
    "    \n",
    "    # Create dataframe preserving the order in the graph's nodes\n",
    "    rows = []\n",
    "    for station in PT_net.nodes:\n",
    "        rows.append([station, dict_deg[station], dict_bet[station], dict_clos[station]])\n",
    "        \n",
    "    outcome = pd.DataFrame(rows, columns =['Stations', 'Degree', 'Betweenness', 'Closeness'])\n",
    "    \n",
    "    return outcome"
   ]
  },
  {
   "cell_type": "markdown",
   "id": "separate-deposit",
   "metadata": {},
   "source": [
    "## Tram"
   ]
  },
  {
   "cell_type": "code",
   "execution_count": 198,
   "id": "anticipated-tribute",
   "metadata": {},
   "outputs": [],
   "source": [
    "file_path = 'Data/PT_Network_Features/tram_edges.xlsx'\n",
    "\n",
    "tram_properties = properties_from_edges(file_path, \n",
    "                                        sheet=1)"
   ]
  },
  {
   "cell_type": "code",
   "execution_count": null,
   "id": "double-million",
   "metadata": {},
   "outputs": [],
   "source": [
    "#tram_properties.to_csv('Data/PT_Network_Features/tram_properties.csv')"
   ]
  },
  {
   "cell_type": "markdown",
   "id": "competent-saying",
   "metadata": {},
   "source": [
    "## Train"
   ]
  },
  {
   "cell_type": "code",
   "execution_count": 199,
   "id": "colonial-flood",
   "metadata": {},
   "outputs": [],
   "source": [
    "file_path = 'Data/PT_Network_Features/train_edges_2006.xlsx'\n",
    "\n",
    "train_properties = properties_from_edges(file_path, \n",
    "                                         sheet=1, \n",
    "                                         cols=[0,2])"
   ]
  },
  {
   "cell_type": "code",
   "execution_count": null,
   "id": "according-chester",
   "metadata": {},
   "outputs": [],
   "source": [
    "#train_properties.to_csv('Data/PT_Network_Features/train_properties_2006.csv')"
   ]
  }
 ],
 "metadata": {
  "kernelspec": {
   "display_name": "Python 3",
   "language": "python",
   "name": "python3"
  },
  "language_info": {
   "codemirror_mode": {
    "name": "ipython",
    "version": 3
   },
   "file_extension": ".py",
   "mimetype": "text/x-python",
   "name": "python",
   "nbconvert_exporter": "python",
   "pygments_lexer": "ipython3",
   "version": "3.8.8"
  }
 },
 "nbformat": 4,
 "nbformat_minor": 5
}
