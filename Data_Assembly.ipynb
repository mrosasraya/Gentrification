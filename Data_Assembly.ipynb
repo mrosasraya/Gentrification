{
 "cells": [
  {
   "cell_type": "code",
   "execution_count": 47,
   "metadata": {},
   "outputs": [],
   "source": [
    "import warnings\n",
    "\n",
    "import pandas as pd\n",
    "import numpy as np\n",
    "from openpyxl import load_workbook\n",
    "from sklearn import preprocessing\n",
    "\n",
    "from data_preprocessing import read_table, merge_str\n"
   ]
  },
  {
   "cell_type": "code",
   "execution_count": 22,
   "metadata": {},
   "outputs": [],
   "source": [
    "np.random.seed(0)\n",
    "random_state = 0"
   ]
  },
  {
   "cell_type": "markdown",
   "metadata": {},
   "source": [
    "# Dataset for a Binary Classification Task of Gentrified Tracts in Melbourne"
   ]
  },
  {
   "cell_type": "markdown",
   "metadata": {},
   "source": [
    "This notebook was created put together all the fields that necessary to train a machine learning model into a single dataset. The training labels were obtained following Freeman's 5-step definition of gentrified areas."
   ]
  },
  {
   "cell_type": "markdown",
   "metadata": {},
   "source": [
    "# Table of Contents\n",
    "\n",
    "1. [Data Assembly 2006-2016](#Assembly2006)\n",
    "\n",
    "\n",
    "2. [Data Assembly 2011-2016](#Assembly2011)\n",
    "\n",
    "   "
   ]
  },
  {
   "cell_type": "code",
   "execution_count": 3,
   "metadata": {},
   "outputs": [],
   "source": [
    "def normalize(df, ft_list):\n",
    "    \n",
    "    for feature in ft_list:\n",
    "        min_max_scaler = preprocessing.MinMaxScaler()\n",
    "        feature_scaled = min_max_scaler.fit_transform(df[[feature]])\n",
    "        df[feature+'_normalized']= feature_scaled\n",
    "        \n",
    "    return  df"
   ]
  },
  {
   "cell_type": "code",
   "execution_count": 4,
   "metadata": {},
   "outputs": [],
   "source": [
    "def assembly_PT_ft(closest_stops_path, network_properties_file, network):\n",
    "    \n",
    "    # Calculate the inverse of distance to closest stop for decay function\n",
    "    closest_stops = read_table(closest_stops_path)\n",
    "    \n",
    "    closest_stops['dist_closest_stop_' + network]= 1/closest_stops['dist_closest_stop_' + network]\n",
    "\n",
    "    # Normalize the inverse of distance to closest stop\n",
    "    closest_stops = normalize(closest_stops, ['dist_closest_stop_' + network])\n",
    "\n",
    "    # Merge tracts and the Network Properties of their closest tram stop\n",
    "    network_properties = read_table(network_properties_file)\n",
    "\n",
    "    network_features = merge_str(closest_stops[['SA1_MAINCO', \n",
    "                                             'SA1_7DIG16', \n",
    "                                             'closest_stop_' + network,\n",
    "                                             'dist_closest_stop_' + network + '_normalized']], \n",
    "                              network_properties[['STOP_ID',\n",
    "                                             'Degree',\n",
    "                                             'Betweenness', \n",
    "                                             'Closeness']], \n",
    "                              'closest_stop_' + network, \n",
    "                              'STOP_ID', \n",
    "                              how='left')\n",
    "\n",
    "    #  Apply decay function to the properties of the closest stations to each tract\n",
    "    for feature in ['Degree','Betweenness', 'Closeness']:\n",
    "\n",
    "        network_features[feature] = pd.to_numeric(network_features[feature])\n",
    "        network_features[feature + '_' + network + '_decayed'] = \\\n",
    "                                              network_features['dist_closest_stop_'+ network + '_normalized']\\\n",
    "                                              * network_features[feature]\n",
    "\n",
    "    network_features = network_features[['SA1_MAINCO', \n",
    "                                   'SA1_7DIG16',\n",
    "                                   'Degree_'  + network + '_decayed', \n",
    "                                   'Betweenness_'  + network + '_decayed',\n",
    "                                   'Closeness_'  + network + '_decayed']]\n",
    "    return network_features"
   ]
  },
  {
   "cell_type": "code",
   "execution_count": 5,
   "metadata": {},
   "outputs": [],
   "source": [
    "def features_join(tram_features, train_features, demo_features, labels):\n",
    "    p1 = merge_str(tram_features.drop(['SA1_7DIG16'], axis=1),\n",
    "                              train_features.drop(['SA1_7DIG16'], axis=1),\n",
    "                              'SA1_MAINCO',\n",
    "                              'SA1_MAINCO',\n",
    "                              'left')\n",
    "    \n",
    "    p2 = merge_str(p1,\n",
    "                   demo_features,\n",
    "                   'SA1_MAINCO',\n",
    "                   'SA1_MAINCO',\n",
    "                   'left')\n",
    "    \n",
    "    complete =  merge_str(p2,\n",
    "                          labels,\n",
    "                          'SA1_MAINCO',\n",
    "                          'SA1_MAINCO',\n",
    "                          'left')\n",
    "    return complete"
   ]
  },
  {
   "cell_type": "markdown",
   "metadata": {},
   "source": [
    "## 2006 - 2016 Data Assembly <a name=\"Assembly2006\"></a>"
   ]
  },
  {
   "cell_type": "markdown",
   "metadata": {},
   "source": [
    "## Process Public Transport Features"
   ]
  },
  {
   "cell_type": "markdown",
   "metadata": {},
   "source": [
    "### Tram "
   ]
  },
  {
   "cell_type": "code",
   "execution_count": 6,
   "metadata": {},
   "outputs": [],
   "source": [
    "closest_stops_path_2006 = 'Data/PT_Network_Features/tracts_closest_tram_train_stops_2006.csv'\n",
    "tram_properties_file_2006 = 'Data/PT_Network_Features/tram_properties_all_years.xlsx'\n",
    "tram_features_2006 = assembly_PT_ft(closest_stops_path_2006, tram_properties_file_2006, 'Tram')"
   ]
  },
  {
   "cell_type": "markdown",
   "metadata": {},
   "source": [
    "### Train"
   ]
  },
  {
   "cell_type": "code",
   "execution_count": 7,
   "metadata": {},
   "outputs": [],
   "source": [
    "closest_stations_path_2006 = 'Data/PT_Network_Features/tracts_closest_tram_train_stops_2006.csv'\n",
    "train_properties_file_2006 = 'Data/PT_Network_Features/train_properties_2006.xlsx'\n",
    "train_features_2006 = assembly_PT_ft(closest_stations_path_2006, train_properties_file_2006, 'Train')"
   ]
  },
  {
   "cell_type": "markdown",
   "metadata": {},
   "source": [
    "## Demographic Features"
   ]
  },
  {
   "cell_type": "code",
   "execution_count": 8,
   "metadata": {},
   "outputs": [],
   "source": [
    "demo_features_06_reduced = read_table('Data/Demographic_Features/all_features_inter_2006_reduced.csv')\n",
    "for col in  demo_features_06_reduced.columns:\n",
    "    \n",
    "    demo_features_06_reduced[col] = pd.to_numeric(demo_features_06_reduced[col], errors='coerce')\n",
    "\n",
    "    \n",
    "demo_features_06_complete = read_table('Data/Demographic_Features/all_demographic_features_2006.csv')\n",
    "for col in  demo_features_06_complete.columns:\n",
    "    \n",
    "    demo_features_06_complete[col] = pd.to_numeric(demo_features_06_complete[col], errors='coerce')    "
   ]
  },
  {
   "cell_type": "markdown",
   "metadata": {},
   "source": [
    "## Labels"
   ]
  },
  {
   "cell_type": "code",
   "execution_count": 9,
   "metadata": {},
   "outputs": [],
   "source": [
    "labels_06 = read_table('Data/Gentrification_Labels/labels_2006_2016.csv')"
   ]
  },
  {
   "cell_type": "markdown",
   "metadata": {},
   "source": [
    "## Dataset Join"
   ]
  },
  {
   "cell_type": "code",
   "execution_count": 10,
   "metadata": {},
   "outputs": [],
   "source": [
    "reduced_06_16 = features_join(tram_features_2006,\n",
    "                              train_features_2006,\n",
    "                              demo_features_06_reduced,\n",
    "                              labels_06[['SA1_MAINCO','Gentrified_06_16']])\n",
    "\n",
    "complete_06_16 = features_join(tram_features_2006,\n",
    "                              train_features_2006,\n",
    "                              demo_features_06_complete,\n",
    "                              labels_06[['SA1_MAINCO','Gentrified_06_16']])"
   ]
  },
  {
   "cell_type": "code",
   "execution_count": 11,
   "metadata": {},
   "outputs": [],
   "source": [
    "#reduced_06_16.to_csv('Data/dataset_reduced_06_16.csv')\n",
    "#complete_06_16.to_csv('Data/dataset_complete_06_16.csv')"
   ]
  },
  {
   "cell_type": "markdown",
   "metadata": {},
   "source": [
    "## 2011-2016 Data Assembly <a name=\"Assembly2011\"></a>"
   ]
  },
  {
   "cell_type": "markdown",
   "metadata": {},
   "source": [
    "## Process Public Transport Features\n",
    "### Tram"
   ]
  },
  {
   "cell_type": "code",
   "execution_count": 12,
   "metadata": {},
   "outputs": [],
   "source": [
    "closest_stops_path_2011 = 'Data/PT_Network_Features/tracts_closest_tram_train_stops_2016.csv'\n",
    "tram_properties_file_2011 = 'Data/PT_Network_Features/tram_properties_all_years.xlsx'\n",
    "tram_features_2011 = assembly_PT_ft(closest_stops_path_2011, tram_properties_file_2011, 'Tram')"
   ]
  },
  {
   "cell_type": "code",
   "execution_count": 13,
   "metadata": {},
   "outputs": [],
   "source": [
    "closest_stations_path_2011 = 'Data/PT_Network_Features/tracts_closest_tram_train_stops_2016.csv'\n",
    "train_properties_file_2011 = 'Data/PT_Network_Features/train_properties_2016.xlsx'\n",
    "train_features_2011 = assembly_PT_ft(closest_stations_path_2011, train_properties_file_2011, 'Train')"
   ]
  },
  {
   "cell_type": "markdown",
   "metadata": {},
   "source": [
    "## Demographic Features"
   ]
  },
  {
   "cell_type": "code",
   "execution_count": 14,
   "metadata": {},
   "outputs": [],
   "source": [
    "demo_features_11_reduced = read_table('Data/Demographic_Features/all_features_inter_2011_reduced.csv')\n",
    "for col in  demo_features_11_reduced.columns:\n",
    "    \n",
    "    demo_features_11_reduced[col] = pd.to_numeric(demo_features_11_reduced[col], errors='coerce')\n",
    "\n",
    "    \n",
    "demo_features_11_complete = read_table('Data/Demographic_Features/all_demo_features_2011.csv')\n",
    "for col in  demo_features_11_complete.columns:\n",
    "    \n",
    "    demo_features_11_complete[col] = pd.to_numeric(demo_features_11_complete[col], errors='coerce')"
   ]
  },
  {
   "cell_type": "markdown",
   "metadata": {},
   "source": [
    "## Labels"
   ]
  },
  {
   "cell_type": "code",
   "execution_count": 15,
   "metadata": {},
   "outputs": [],
   "source": [
    "labels_11 = read_table('Data/Gentrification_Labels/labels_2011_2016.csv')"
   ]
  },
  {
   "cell_type": "markdown",
   "metadata": {},
   "source": [
    "## Dataset Join"
   ]
  },
  {
   "cell_type": "code",
   "execution_count": 16,
   "metadata": {},
   "outputs": [],
   "source": [
    "reduced_11_16 = features_join(tram_features_2011,\n",
    "                              train_features_2011,\n",
    "                              demo_features_11_reduced,\n",
    "                              labels_11[['SA1_MAINCO','Gentrified_11_16']])\n",
    "\n",
    "complete_11_16 = features_join(tram_features_2011,\n",
    "                              train_features_2011,\n",
    "                              demo_features_11_complete,\n",
    "                              labels_11[['SA1_MAINCO','Gentrified_11_16']])"
   ]
  },
  {
   "cell_type": "code",
   "execution_count": 17,
   "metadata": {},
   "outputs": [],
   "source": [
    "reduced_11_16.to_csv('Data/dataset_reduced_11_16.csv')\n",
    "complete_11_16.to_csv('Data/dataset_complete_11_16.csv')"
   ]
  }
 ],
 "metadata": {
  "kernelspec": {
   "display_name": "Python 3",
   "language": "python",
   "name": "python3"
  },
  "language_info": {
   "codemirror_mode": {
    "name": "ipython",
    "version": 3
   },
   "file_extension": ".py",
   "mimetype": "text/x-python",
   "name": "python",
   "nbconvert_exporter": "python",
   "pygments_lexer": "ipython3",
   "version": "3.7.6"
  }
 },
 "nbformat": 4,
 "nbformat_minor": 5
}
