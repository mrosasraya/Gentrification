{
  "nbformat": 4,
  "nbformat_minor": 0,
  "metadata": {
    "colab": {
      "name": "Deep_Learning_Models.ipynb",
      "provenance": []
    },
    "kernelspec": {
      "name": "python3",
      "display_name": "Python 3"
    },
    "language_info": {
      "name": "python"
    },
    "accelerator": "GPU"
  },
  "cells": [
    {
      "cell_type": "code",
      "metadata": {
        "id": "fttktb5wclCL"
      },
      "source": [
        "import pandas as pd\n",
        "import sklearn.metrics as met\n",
        "import tensorflow as tf\n",
        "import numpy as np\n",
        "import matplotlib.pyplot as plt\n",
        "import statistics\n",
        "from sklearn import preprocessing\n",
        "from tensorflow.keras.models import Sequential\n",
        "from tensorflow.keras.layers import Dense, Dropout\n",
        "from sklearn.model_selection import train_test_split"
      ],
      "execution_count": 40,
      "outputs": []
    },
    {
      "cell_type": "markdown",
      "metadata": {
        "id": "w9KOTKyQdJC5"
      },
      "source": [
        "# Binary Prediction of Gentrified Tracts in Melbourne"
      ]
    },
    {
      "cell_type": "markdown",
      "metadata": {
        "id": "uPUosfxecreP"
      },
      "source": [
        "This noteboke containes the Feed-Forward Neural Networks (FFNN) used to model a binary classification problem about transit-induced gentrification in Melbourne. There are two gentrification periods to be analysed: 2006-2016 and 2011-2016. The training labels were obtained following Freeman's 5-step definition of gentrified areas.\n",
        "\n",
        "The evaluation process is centered around Recall. In order to do wo while preventing the models from predicting all instances as positive, the main metric is F2 with recall being twice as aimportant as precision."
      ]
    },
    {
      "cell_type": "markdown",
      "metadata": {
        "id": "Zgy6BL1meOLN"
      },
      "source": [
        "# Table of Contents\n",
        "\n",
        "1. [Models for 2006-2016 Gentrification Period](#2006_2016_model)\n",
        "\n",
        "2. [Models for 2011-2016 Gentrification Period](#2011_2016_model)"
      ]
    },
    {
      "cell_type": "code",
      "metadata": {
        "id": "_WzzBPsEdGK8"
      },
      "source": [
        "# Function to print evaluation metrics\n",
        "\n",
        "def print_metrics(predictions, y_test, name='model'):\n",
        "    print('F2 of ' + name + ' is')\n",
        "    print(met.fbeta_score(y_test, predictions, beta=2))\n",
        "    print('Recall of ' + name + ' is ')\n",
        "    print(met.recall_score(y_test, predictions))\n",
        "    print('Precision of ' + name + ' is ')\n",
        "    print(met.precision_score(y_test, predictions))\n",
        "    print('Accuracy of ' + name + ' is ')\n",
        "    print(met.accuracy_score(y_test, predictions))"
      ],
      "execution_count": 30,
      "outputs": []
    },
    {
      "cell_type": "code",
      "metadata": {
        "id": "PQQURTP8diW9"
      },
      "source": [
        "# Function to plot Precision-Recall Curve\n",
        "\n",
        "def plot_PRC(y_test, y_prob, name='model'):\n",
        "    precision, recall, thresholds = met.precision_recall_curve(y_test, y_prob)\n",
        "    # plot the precision-recall curves\n",
        "    no_skill = len(y_test[y_test==True]) / len(y_test)\n",
        "    plt.plot([0, 1], [no_skill, no_skill], linestyle='--', label='No Skill')\n",
        "    plt.plot(recall, precision, marker='.', label=name)\n",
        "    # axis labels\n",
        "    plt.xlabel('Recall')\n",
        "    plt.ylabel('Precision')\n",
        "    plt.ylim(0,1)\n",
        "    # show the legend\n",
        "    plt.legend()\n",
        "    # show the plot\n",
        "    plt.show()"
      ],
      "execution_count": 31,
      "outputs": []
    },
    {
      "cell_type": "code",
      "metadata": {
        "id": "mrSSGvk9k9sW"
      },
      "source": [
        "# Plot results used to calculate the grand mean of metrics\n",
        "\n",
        "def plot_series(met_list, name='metric'):\n",
        "  mean = statistics.mean(met_list)\n",
        "  plt.plot([0, len(met_list)], [mean, mean], linestyle='--', label='mean')\n",
        "  plt.plot(met_list, label='series')\n",
        "  plt.xlabel('series')\n",
        "  plt.ylabel(name)\n",
        "  plt.ylim(0,1)\n",
        "  plt.show\n",
        "\n",
        "  print('The variance is: ' + str(np.var(met_list)))"
      ],
      "execution_count": 32,
      "outputs": []
    },
    {
      "cell_type": "code",
      "metadata": {
        "colab": {
          "base_uri": "https://localhost:8080/"
        },
        "id": "y7hoO9EJdsmH",
        "outputId": "8ab81225-38eb-4f8e-a42d-61feec7e4f8a"
      },
      "source": [
        "from google.colab import drive\n",
        "drive.mount('/content/drive')"
      ],
      "execution_count": 33,
      "outputs": [
        {
          "output_type": "stream",
          "text": [
            "Drive already mounted at /content/drive; to attempt to forcibly remount, call drive.mount(\"/content/drive\", force_remount=True).\n"
          ],
          "name": "stdout"
        }
      ]
    },
    {
      "cell_type": "markdown",
      "metadata": {
        "id": "hDNjojGeeJ8j"
      },
      "source": [
        "##  2006-2016 Gentrification Period <a name='2006_2016_model'></a>"
      ]
    },
    {
      "cell_type": "code",
      "metadata": {
        "id": "zCXkMF3odwtp"
      },
      "source": [
        "reduced_06_16 = pd.read_csv('drive/MyDrive/dataset_reduced_06_16.csv')\n",
        "complete_06_16 = pd.read_csv('drive/MyDrive/dataset_complete_06_16.csv')"
      ],
      "execution_count": 34,
      "outputs": []
    },
    {
      "cell_type": "code",
      "metadata": {
        "id": "FQ3FdN7we3_x"
      },
      "source": [
        "# Normalize dataset\n",
        "scaler_R = preprocessing.MinMaxScaler()\n",
        "X_06R = reduced_06_16.drop(columns = ['SA1_MAINCO','Gentrified_06_16'], axis=1)\n",
        "X_06R[X_06R.columns] = scaler_R.fit_transform(X_06R)\n",
        "                                               \n",
        "scaler_C = preprocessing.MinMaxScaler()\n",
        "X_06C = complete_06_16.drop(columns = ['SA1_MAINCO','Gentrified_06_16'], axis=1)\n",
        "X_06C[X_06C.columns] = scaler_C.fit_transform(X_06C)\n",
        "\n",
        "# Split dataset\n",
        "X_06R_select, X_06R_test, y_06R_select, y_06R_test = train_test_split(X_06R,\n",
        "                                                                    reduced_06_16['Gentrified_06_16'], \n",
        "                                                                    test_size=0.25)\n",
        "X_06R_train, X_06R_val, y_06R_train, y_06R_val = train_test_split(X_06R_select,\n",
        "                                                                    y_06R_select, \n",
        "                                                                    test_size=0.25)\n",
        "\n",
        "X_06C_select, X_06C_test, y_06C_select, y_06C_test = train_test_split(X_06C,\n",
        "                                                                    complete_06_16['Gentrified_06_16'], \n",
        "                                                                    test_size=0.25)\n",
        "X_06C_train, X_06C_val, y_06C_train, y_06C_val = train_test_split(X_06C_select,\n",
        "                                                                    y_06C_select, \n",
        "                                                                    test_size=0.25)"
      ],
      "execution_count": 59,
      "outputs": []
    },
    {
      "cell_type": "code",
      "metadata": {
        "id": "8Y69lIVMhkjq"
      },
      "source": [
        "# Class wights fixed to the proportion of positives and negtives\n",
        "\n",
        "y_06 = reduced_06_16['Gentrified_06_16']\n",
        "int_ratio_06 = round(100*len(y_06[y_06 == True])/ len(y_06))\n",
        "\n",
        "cw_06 = {False: int_ratio_06, True: 100-int_ratio_06}"
      ],
      "execution_count": 36,
      "outputs": []
    },
    {
      "cell_type": "code",
      "metadata": {
        "id": "iJcw0TVXhTUD"
      },
      "source": [
        "# metrics\n",
        "\n",
        "metrics = [tf.keras.metrics.Recall(),\n",
        "           tf.keras.metrics.Accuracy(),\n",
        "           tf.keras.metrics.Precision(),\n",
        "           ]"
      ],
      "execution_count": 37,
      "outputs": []
    },
    {
      "cell_type": "markdown",
      "metadata": {
        "id": "1tQXSHeT8i1e"
      },
      "source": [
        "FFNN trained and configured with a reduced number of demographic features."
      ]
    },
    {
      "cell_type": "code",
      "metadata": {
        "colab": {
          "base_uri": "https://localhost:8080/",
          "height": 1000
        },
        "id": "FXmyzUiRwrLn",
        "outputId": "601f1a46-8f57-4ea0-f8d2-53cd2c8d07cf"
      },
      "source": [
        "from keras.callbacks import EarlyStopping\n",
        "from keras.models import load_model\n",
        "\n",
        "model = Sequential()\n",
        "model.add(Dense(105, input_dim = X_06R_train.shape[1], activation='selu'))\n",
        "model.add(Dense(105, activation='selu'))\n",
        "model.add(Dropout(0.3))\n",
        "model.add(Dense(105, activation='selu'))\n",
        "model.add(Dropout(0.3))\n",
        "model.add(Dense(105, activation='selu'))\n",
        "model.add(Dense(1, activation='sigmoid'))\n",
        "\n",
        "model.compile(loss='binary_crossentropy', \n",
        "              optimizer='adam', \n",
        "              metrics=metrics,)\n",
        "\n",
        "\n",
        "es = EarlyStopping(monitor='val_loss', mode='min', verbose=1, patience=50)\n",
        "mc = tf.keras.callbacks.ModelCheckpoint('best_model.h5', \n",
        "                                        monitor='val_loss', \n",
        "                                        mode='min', \n",
        "                                        verbose=1, \n",
        "                                        save_best_only=True)\n",
        "\n",
        "history = model.fit(x=X_06R_train, \n",
        "                    y=y_06R_train, \n",
        "                    validation_data=(X_06R_val, y_06R_val),\n",
        "                    epochs=300,\n",
        "                    batch_size=2000,\n",
        "                    class_weight=cw_06,\n",
        "                    verbose=0,\n",
        "                    callbacks=[es, mc]\n",
        "                    )\n",
        "\n",
        "saved_model = load_model('best_model.h5')\n",
        "\n",
        "plt.plot(history.history['loss'], label='train')\n",
        "plt.plot(history.history['val_loss'], label='test')\n",
        "plt.legend()\n",
        "plt.show\n",
        "\n",
        "print_metrics(saved_model.predict(X_06R_test).round(),y_06R_test, name='NN')  "
      ],
      "execution_count": 55,
      "outputs": [
        {
          "output_type": "stream",
          "text": [
            "\n",
            "Epoch 00001: val_loss improved from inf to 0.81110, saving model to best_model.h5\n",
            "\n",
            "Epoch 00002: val_loss improved from 0.81110 to 0.51624, saving model to best_model.h5\n",
            "\n",
            "Epoch 00003: val_loss did not improve from 0.51624\n",
            "\n",
            "Epoch 00004: val_loss did not improve from 0.51624\n",
            "\n",
            "Epoch 00005: val_loss did not improve from 0.51624\n",
            "\n",
            "Epoch 00006: val_loss did not improve from 0.51624\n",
            "\n",
            "Epoch 00007: val_loss improved from 0.51624 to 0.49284, saving model to best_model.h5\n",
            "\n",
            "Epoch 00008: val_loss did not improve from 0.49284\n",
            "\n",
            "Epoch 00009: val_loss did not improve from 0.49284\n",
            "\n",
            "Epoch 00010: val_loss did not improve from 0.49284\n",
            "\n",
            "Epoch 00011: val_loss improved from 0.49284 to 0.48217, saving model to best_model.h5\n",
            "\n",
            "Epoch 00012: val_loss did not improve from 0.48217\n",
            "\n",
            "Epoch 00013: val_loss did not improve from 0.48217\n",
            "\n",
            "Epoch 00014: val_loss improved from 0.48217 to 0.47422, saving model to best_model.h5\n",
            "\n",
            "Epoch 00015: val_loss did not improve from 0.47422\n",
            "\n",
            "Epoch 00016: val_loss did not improve from 0.47422\n",
            "\n",
            "Epoch 00017: val_loss improved from 0.47422 to 0.46003, saving model to best_model.h5\n",
            "\n",
            "Epoch 00018: val_loss did not improve from 0.46003\n",
            "\n",
            "Epoch 00019: val_loss improved from 0.46003 to 0.43351, saving model to best_model.h5\n",
            "\n",
            "Epoch 00020: val_loss did not improve from 0.43351\n",
            "\n",
            "Epoch 00021: val_loss did not improve from 0.43351\n",
            "\n",
            "Epoch 00022: val_loss did not improve from 0.43351\n",
            "\n",
            "Epoch 00023: val_loss did not improve from 0.43351\n",
            "\n",
            "Epoch 00024: val_loss did not improve from 0.43351\n",
            "\n",
            "Epoch 00025: val_loss did not improve from 0.43351\n",
            "\n",
            "Epoch 00026: val_loss did not improve from 0.43351\n",
            "\n",
            "Epoch 00027: val_loss did not improve from 0.43351\n",
            "\n",
            "Epoch 00028: val_loss improved from 0.43351 to 0.42906, saving model to best_model.h5\n",
            "\n",
            "Epoch 00029: val_loss did not improve from 0.42906\n",
            "\n",
            "Epoch 00030: val_loss improved from 0.42906 to 0.40984, saving model to best_model.h5\n",
            "\n",
            "Epoch 00031: val_loss did not improve from 0.40984\n",
            "\n",
            "Epoch 00032: val_loss did not improve from 0.40984\n",
            "\n",
            "Epoch 00033: val_loss did not improve from 0.40984\n",
            "\n",
            "Epoch 00034: val_loss did not improve from 0.40984\n",
            "\n",
            "Epoch 00035: val_loss did not improve from 0.40984\n",
            "\n",
            "Epoch 00036: val_loss did not improve from 0.40984\n",
            "\n",
            "Epoch 00037: val_loss improved from 0.40984 to 0.40743, saving model to best_model.h5\n",
            "\n",
            "Epoch 00038: val_loss did not improve from 0.40743\n",
            "\n",
            "Epoch 00039: val_loss improved from 0.40743 to 0.39458, saving model to best_model.h5\n",
            "\n",
            "Epoch 00040: val_loss did not improve from 0.39458\n",
            "\n",
            "Epoch 00041: val_loss improved from 0.39458 to 0.37355, saving model to best_model.h5\n",
            "\n",
            "Epoch 00042: val_loss did not improve from 0.37355\n",
            "\n",
            "Epoch 00043: val_loss did not improve from 0.37355\n",
            "\n",
            "Epoch 00044: val_loss did not improve from 0.37355\n",
            "\n",
            "Epoch 00045: val_loss did not improve from 0.37355\n",
            "\n",
            "Epoch 00046: val_loss did not improve from 0.37355\n",
            "\n",
            "Epoch 00047: val_loss improved from 0.37355 to 0.36446, saving model to best_model.h5\n",
            "\n",
            "Epoch 00048: val_loss did not improve from 0.36446\n",
            "\n",
            "Epoch 00049: val_loss did not improve from 0.36446\n",
            "\n",
            "Epoch 00050: val_loss did not improve from 0.36446\n",
            "\n",
            "Epoch 00051: val_loss did not improve from 0.36446\n",
            "\n",
            "Epoch 00052: val_loss improved from 0.36446 to 0.35871, saving model to best_model.h5\n",
            "\n",
            "Epoch 00053: val_loss did not improve from 0.35871\n",
            "\n",
            "Epoch 00054: val_loss improved from 0.35871 to 0.34896, saving model to best_model.h5\n",
            "\n",
            "Epoch 00055: val_loss did not improve from 0.34896\n",
            "\n",
            "Epoch 00056: val_loss improved from 0.34896 to 0.33220, saving model to best_model.h5\n",
            "\n",
            "Epoch 00057: val_loss did not improve from 0.33220\n",
            "\n",
            "Epoch 00058: val_loss did not improve from 0.33220\n",
            "\n",
            "Epoch 00059: val_loss did not improve from 0.33220\n",
            "\n",
            "Epoch 00060: val_loss did not improve from 0.33220\n",
            "\n",
            "Epoch 00061: val_loss did not improve from 0.33220\n",
            "\n",
            "Epoch 00062: val_loss did not improve from 0.33220\n",
            "\n",
            "Epoch 00063: val_loss did not improve from 0.33220\n",
            "\n",
            "Epoch 00064: val_loss did not improve from 0.33220\n",
            "\n",
            "Epoch 00065: val_loss did not improve from 0.33220\n",
            "\n",
            "Epoch 00066: val_loss did not improve from 0.33220\n",
            "\n",
            "Epoch 00067: val_loss did not improve from 0.33220\n",
            "\n",
            "Epoch 00068: val_loss did not improve from 0.33220\n",
            "\n",
            "Epoch 00069: val_loss did not improve from 0.33220\n",
            "\n",
            "Epoch 00070: val_loss did not improve from 0.33220\n",
            "\n",
            "Epoch 00071: val_loss did not improve from 0.33220\n",
            "\n",
            "Epoch 00072: val_loss did not improve from 0.33220\n",
            "\n",
            "Epoch 00073: val_loss did not improve from 0.33220\n",
            "\n",
            "Epoch 00074: val_loss did not improve from 0.33220\n",
            "\n",
            "Epoch 00075: val_loss did not improve from 0.33220\n",
            "\n",
            "Epoch 00076: val_loss did not improve from 0.33220\n",
            "\n",
            "Epoch 00077: val_loss did not improve from 0.33220\n",
            "\n",
            "Epoch 00078: val_loss did not improve from 0.33220\n",
            "\n",
            "Epoch 00079: val_loss did not improve from 0.33220\n",
            "\n",
            "Epoch 00080: val_loss did not improve from 0.33220\n",
            "\n",
            "Epoch 00081: val_loss did not improve from 0.33220\n",
            "\n",
            "Epoch 00082: val_loss did not improve from 0.33220\n",
            "\n",
            "Epoch 00083: val_loss did not improve from 0.33220\n",
            "\n",
            "Epoch 00084: val_loss did not improve from 0.33220\n",
            "\n",
            "Epoch 00085: val_loss did not improve from 0.33220\n",
            "\n",
            "Epoch 00086: val_loss did not improve from 0.33220\n",
            "\n",
            "Epoch 00087: val_loss did not improve from 0.33220\n",
            "\n",
            "Epoch 00088: val_loss did not improve from 0.33220\n",
            "\n",
            "Epoch 00089: val_loss did not improve from 0.33220\n",
            "\n",
            "Epoch 00090: val_loss did not improve from 0.33220\n",
            "\n",
            "Epoch 00091: val_loss did not improve from 0.33220\n",
            "\n",
            "Epoch 00092: val_loss did not improve from 0.33220\n",
            "\n",
            "Epoch 00093: val_loss did not improve from 0.33220\n",
            "\n",
            "Epoch 00094: val_loss did not improve from 0.33220\n",
            "\n",
            "Epoch 00095: val_loss did not improve from 0.33220\n",
            "\n",
            "Epoch 00096: val_loss did not improve from 0.33220\n",
            "\n",
            "Epoch 00097: val_loss did not improve from 0.33220\n",
            "\n",
            "Epoch 00098: val_loss did not improve from 0.33220\n",
            "\n",
            "Epoch 00099: val_loss did not improve from 0.33220\n",
            "\n",
            "Epoch 00100: val_loss did not improve from 0.33220\n",
            "\n",
            "Epoch 00101: val_loss did not improve from 0.33220\n",
            "\n",
            "Epoch 00102: val_loss did not improve from 0.33220\n",
            "\n",
            "Epoch 00103: val_loss did not improve from 0.33220\n",
            "\n",
            "Epoch 00104: val_loss did not improve from 0.33220\n",
            "\n",
            "Epoch 00105: val_loss did not improve from 0.33220\n",
            "\n",
            "Epoch 00106: val_loss did not improve from 0.33220\n",
            "Epoch 00106: early stopping\n",
            "F2 of NN is\n",
            "0.6459330143540669\n",
            "Recall of NN is \n",
            "0.8157099697885196\n",
            "Precision of NN is \n",
            "0.3524804177545692\n",
            "Accuracy of NN is \n",
            "0.7835211815001943\n"
          ],
          "name": "stdout"
        },
        {
          "output_type": "display_data",
          "data": {
            "image/png": "[encoded data removed]",
            "text/plain": [
              "<Figure size 432x288 with 1 Axes>"
            ]
          },
          "metadata": {
            "tags": [],
            "needs_background": "light"
          }
        }
      ]
    },
    {
      "cell_type": "code",
      "metadata": {
        "colab": {
          "base_uri": "https://localhost:8080/",
          "height": 368
        },
        "id": "5rlrh9RWjbez",
        "outputId": "3cc53b69-ae22-4391-c215-384bf974e45f"
      },
      "source": [
        "model = Sequential()\n",
        "model.add(Dense(105, input_dim = X_06R_train.shape[1], activation='selu'))\n",
        "model.add(Dense(105, activation='selu'))\n",
        "model.add(Dropout(0.3))\n",
        "model.add(Dense(105, activation='selu'))\n",
        "model.add(Dropout(0.3))\n",
        "model.add(Dense(105, activation='selu'))\n",
        "model.add(Dense(1, activation='sigmoid'))\n",
        "\n",
        "model.compile(loss='binary_crossentropy', \n",
        "              optimizer='adam', \n",
        "              metrics=metrics,)\n",
        "\n",
        "precision2 = []\n",
        "acc2 = []\n",
        "f22 = []\n",
        "recall2 = []\n",
        "for i in range(30):\n",
        "\n",
        "  history = model.fit(x=X_06R_select, \n",
        "                    y=y_06R_select, \n",
        "                    epochs=50,\n",
        "                    batch_size=2000,\n",
        "                    class_weight=cw_06,\n",
        "                    verbose=0)\n",
        "                    \n",
        "  f22.append(met.fbeta_score(y_06R_test, model.predict(X_06R_test).round(), beta=2))\n",
        "  recall2.append(met.recall_score(y_06R_test, model.predict(X_06R_test).round()))\n",
        "  precision2.append(met.precision_score(y_06R_test, model.predict(X_06R_test).round()))\n",
        "  acc2.append(met.accuracy_score(y_06R_test, model.predict(X_06R_test).round()))\n",
        "\n",
        "print('F2: ' + str(statistics.mean(f22)))\n",
        "print('recall: ' + str(statistics.mean(recall2)))\n",
        "print('precision: ' + str(statistics.mean(precision2)))\n",
        "print('accuracy: ' + str(statistics.mean(acc2)))\n",
        "\n",
        "plot_series(f22)"
      ],
      "execution_count": 56,
      "outputs": [
        {
          "output_type": "stream",
          "text": [
            "F2: 0.714989888830619\n",
            "recall: 0.8025176233635448\n",
            "precision: 0.5142858562858137\n",
            "accuracy: 0.8704624951418578\n",
            "0.000841153030934499\n"
          ],
          "name": "stdout"
        },
        {
          "output_type": "display_data",
          "data": {
            "image/png": "[encoded data removed]",
            "text/plain": [
              "<Figure size 432x288 with 1 Axes>"
            ]
          },
          "metadata": {
            "tags": [],
            "needs_background": "light"
          }
        }
      ]
    },
    {
      "cell_type": "markdown",
      "metadata": {
        "id": "BoQqqSzp8mk8"
      },
      "source": [
        "FFNN trained and configured with all demographic features."
      ]
    },
    {
      "cell_type": "code",
      "metadata": {
        "colab": {
          "base_uri": "https://localhost:8080/",
          "height": 1000
        },
        "id": "JpMtxr6gzVcu",
        "outputId": "efecbbf9-aaaa-4cdb-adef-aadb6395afd3"
      },
      "source": [
        "from keras.callbacks import EarlyStopping\n",
        "from keras.models import load_model\n",
        "\n",
        "model = Sequential()\n",
        "model.add(Dense(477, input_dim = X_06C_train.shape[1], activation='selu'))\n",
        "model.add(Dense(477, activation='selu'))\n",
        "model.add(Dropout(0.3))\n",
        "model.add(Dense(477, activation='selu'))\n",
        "model.add(Dropout(0.3))\n",
        "model.add(Dense(477, activation='selu'))\n",
        "model.add(Dense(1, activation='sigmoid'))\n",
        "\n",
        "model.compile(loss='binary_crossentropy', \n",
        "              optimizer='adam', \n",
        "              metrics=metrics,)\n",
        "\n",
        "\n",
        "es = EarlyStopping(monitor='val_loss', mode='min', verbose=1, patience=50)\n",
        "mc = tf.keras.callbacks.ModelCheckpoint('best_model.h5', \n",
        "                                        monitor='val_loss', \n",
        "                                        mode='min', \n",
        "                                        verbose=1, \n",
        "                                        save_best_only=True)\n",
        "\n",
        "history = model.fit(x=X_06C_train, \n",
        "                    y=y_06C_train, \n",
        "                    validation_data=(X_06C_val, y_06C_val),\n",
        "                    epochs=300,\n",
        "                    batch_size=2000,\n",
        "                    class_weight=cw_06,\n",
        "                    verbose=0,\n",
        "                    callbacks=[es, mc]\n",
        "                    )\n",
        "\n",
        "saved_model = load_model('best_model.h5')\n",
        "\n",
        "plt.plot(history.history['loss'], label='train')\n",
        "plt.plot(history.history['val_loss'], label='test')\n",
        "plt.legend()\n",
        "plt.show\n",
        "\n",
        "print_metrics(saved_model.predict(X_06C_test).round(),y_06C_test, name='NN')  "
      ],
      "execution_count": 61,
      "outputs": [
        {
          "output_type": "stream",
          "text": [
            "\n",
            "Epoch 00001: val_loss improved from inf to 4.50800, saving model to best_model.h5\n",
            "\n",
            "Epoch 00002: val_loss improved from 4.50800 to 0.41403, saving model to best_model.h5\n",
            "\n",
            "Epoch 00003: val_loss did not improve from 0.41403\n",
            "\n",
            "Epoch 00004: val_loss improved from 0.41403 to 0.36574, saving model to best_model.h5\n",
            "\n",
            "Epoch 00005: val_loss did not improve from 0.36574\n",
            "\n",
            "Epoch 00006: val_loss did not improve from 0.36574\n",
            "\n",
            "Epoch 00007: val_loss did not improve from 0.36574\n",
            "\n",
            "Epoch 00008: val_loss did not improve from 0.36574\n",
            "\n",
            "Epoch 00009: val_loss did not improve from 0.36574\n",
            "\n",
            "Epoch 00010: val_loss did not improve from 0.36574\n",
            "\n",
            "Epoch 00011: val_loss did not improve from 0.36574\n",
            "\n",
            "Epoch 00012: val_loss did not improve from 0.36574\n",
            "\n",
            "Epoch 00013: val_loss did not improve from 0.36574\n",
            "\n",
            "Epoch 00014: val_loss did not improve from 0.36574\n",
            "\n",
            "Epoch 00015: val_loss did not improve from 0.36574\n",
            "\n",
            "Epoch 00016: val_loss did not improve from 0.36574\n",
            "\n",
            "Epoch 00017: val_loss did not improve from 0.36574\n",
            "\n",
            "Epoch 00018: val_loss did not improve from 0.36574\n",
            "\n",
            "Epoch 00019: val_loss did not improve from 0.36574\n",
            "\n",
            "Epoch 00020: val_loss did not improve from 0.36574\n",
            "\n",
            "Epoch 00021: val_loss did not improve from 0.36574\n",
            "\n",
            "Epoch 00022: val_loss did not improve from 0.36574\n",
            "\n",
            "Epoch 00023: val_loss did not improve from 0.36574\n",
            "\n",
            "Epoch 00024: val_loss did not improve from 0.36574\n",
            "\n",
            "Epoch 00025: val_loss did not improve from 0.36574\n",
            "\n",
            "Epoch 00026: val_loss did not improve from 0.36574\n",
            "\n",
            "Epoch 00027: val_loss did not improve from 0.36574\n",
            "\n",
            "Epoch 00028: val_loss did not improve from 0.36574\n",
            "\n",
            "Epoch 00029: val_loss did not improve from 0.36574\n",
            "\n",
            "Epoch 00030: val_loss did not improve from 0.36574\n",
            "\n",
            "Epoch 00031: val_loss did not improve from 0.36574\n",
            "\n",
            "Epoch 00032: val_loss did not improve from 0.36574\n",
            "\n",
            "Epoch 00033: val_loss did not improve from 0.36574\n",
            "\n",
            "Epoch 00034: val_loss did not improve from 0.36574\n",
            "\n",
            "Epoch 00035: val_loss did not improve from 0.36574\n",
            "\n",
            "Epoch 00036: val_loss did not improve from 0.36574\n",
            "\n",
            "Epoch 00037: val_loss did not improve from 0.36574\n",
            "\n",
            "Epoch 00038: val_loss did not improve from 0.36574\n",
            "\n",
            "Epoch 00039: val_loss did not improve from 0.36574\n",
            "\n",
            "Epoch 00040: val_loss did not improve from 0.36574\n",
            "\n",
            "Epoch 00041: val_loss did not improve from 0.36574\n",
            "\n",
            "Epoch 00042: val_loss did not improve from 0.36574\n",
            "\n",
            "Epoch 00043: val_loss improved from 0.36574 to 0.33162, saving model to best_model.h5\n",
            "\n",
            "Epoch 00044: val_loss did not improve from 0.33162\n",
            "\n",
            "Epoch 00045: val_loss did not improve from 0.33162\n",
            "\n",
            "Epoch 00046: val_loss did not improve from 0.33162\n",
            "\n",
            "Epoch 00047: val_loss did not improve from 0.33162\n",
            "\n",
            "Epoch 00048: val_loss did not improve from 0.33162\n",
            "\n",
            "Epoch 00049: val_loss did not improve from 0.33162\n",
            "\n",
            "Epoch 00050: val_loss did not improve from 0.33162\n",
            "\n",
            "Epoch 00051: val_loss did not improve from 0.33162\n",
            "\n",
            "Epoch 00052: val_loss did not improve from 0.33162\n",
            "\n",
            "Epoch 00053: val_loss improved from 0.33162 to 0.31626, saving model to best_model.h5\n",
            "\n",
            "Epoch 00054: val_loss did not improve from 0.31626\n",
            "\n",
            "Epoch 00055: val_loss did not improve from 0.31626\n",
            "\n",
            "Epoch 00056: val_loss did not improve from 0.31626\n",
            "\n",
            "Epoch 00057: val_loss did not improve from 0.31626\n",
            "\n",
            "Epoch 00058: val_loss did not improve from 0.31626\n",
            "\n",
            "Epoch 00059: val_loss did not improve from 0.31626\n",
            "\n",
            "Epoch 00060: val_loss did not improve from 0.31626\n",
            "\n",
            "Epoch 00061: val_loss did not improve from 0.31626\n",
            "\n",
            "Epoch 00062: val_loss did not improve from 0.31626\n",
            "\n",
            "Epoch 00063: val_loss did not improve from 0.31626\n",
            "\n",
            "Epoch 00064: val_loss did not improve from 0.31626\n",
            "\n",
            "Epoch 00065: val_loss did not improve from 0.31626\n",
            "\n",
            "Epoch 00066: val_loss did not improve from 0.31626\n",
            "\n",
            "Epoch 00067: val_loss did not improve from 0.31626\n",
            "\n",
            "Epoch 00068: val_loss did not improve from 0.31626\n",
            "\n",
            "Epoch 00069: val_loss did not improve from 0.31626\n",
            "\n",
            "Epoch 00070: val_loss did not improve from 0.31626\n",
            "\n",
            "Epoch 00071: val_loss did not improve from 0.31626\n",
            "\n",
            "Epoch 00072: val_loss did not improve from 0.31626\n",
            "\n",
            "Epoch 00073: val_loss did not improve from 0.31626\n",
            "\n",
            "Epoch 00074: val_loss did not improve from 0.31626\n",
            "\n",
            "Epoch 00075: val_loss did not improve from 0.31626\n",
            "\n",
            "Epoch 00076: val_loss did not improve from 0.31626\n",
            "\n",
            "Epoch 00077: val_loss did not improve from 0.31626\n",
            "\n",
            "Epoch 00078: val_loss did not improve from 0.31626\n",
            "\n",
            "Epoch 00079: val_loss did not improve from 0.31626\n",
            "\n",
            "Epoch 00080: val_loss did not improve from 0.31626\n",
            "\n",
            "Epoch 00081: val_loss improved from 0.31626 to 0.29614, saving model to best_model.h5\n",
            "\n",
            "Epoch 00082: val_loss did not improve from 0.29614\n",
            "\n",
            "Epoch 00083: val_loss did not improve from 0.29614\n",
            "\n",
            "Epoch 00084: val_loss did not improve from 0.29614\n",
            "\n",
            "Epoch 00085: val_loss did not improve from 0.29614\n",
            "\n",
            "Epoch 00086: val_loss did not improve from 0.29614\n",
            "\n",
            "Epoch 00087: val_loss did not improve from 0.29614\n",
            "\n",
            "Epoch 00088: val_loss did not improve from 0.29614\n",
            "\n",
            "Epoch 00089: val_loss did not improve from 0.29614\n",
            "\n",
            "Epoch 00090: val_loss did not improve from 0.29614\n",
            "\n",
            "Epoch 00091: val_loss did not improve from 0.29614\n",
            "\n",
            "Epoch 00092: val_loss did not improve from 0.29614\n",
            "\n",
            "Epoch 00093: val_loss did not improve from 0.29614\n",
            "\n",
            "Epoch 00094: val_loss did not improve from 0.29614\n",
            "\n",
            "Epoch 00095: val_loss did not improve from 0.29614\n",
            "\n",
            "Epoch 00096: val_loss did not improve from 0.29614\n",
            "\n",
            "Epoch 00097: val_loss did not improve from 0.29614\n",
            "\n",
            "Epoch 00098: val_loss did not improve from 0.29614\n",
            "\n",
            "Epoch 00099: val_loss did not improve from 0.29614\n",
            "\n",
            "Epoch 00100: val_loss did not improve from 0.29614\n",
            "\n",
            "Epoch 00101: val_loss did not improve from 0.29614\n",
            "\n",
            "Epoch 00102: val_loss did not improve from 0.29614\n",
            "\n",
            "Epoch 00103: val_loss did not improve from 0.29614\n",
            "\n",
            "Epoch 00104: val_loss did not improve from 0.29614\n",
            "\n",
            "Epoch 00105: val_loss did not improve from 0.29614\n",
            "\n",
            "Epoch 00106: val_loss did not improve from 0.29614\n",
            "\n",
            "Epoch 00107: val_loss did not improve from 0.29614\n",
            "\n",
            "Epoch 00108: val_loss did not improve from 0.29614\n",
            "\n",
            "Epoch 00109: val_loss did not improve from 0.29614\n",
            "\n",
            "Epoch 00110: val_loss did not improve from 0.29614\n",
            "\n",
            "Epoch 00111: val_loss did not improve from 0.29614\n",
            "\n",
            "Epoch 00112: val_loss did not improve from 0.29614\n",
            "\n",
            "Epoch 00113: val_loss did not improve from 0.29614\n",
            "\n",
            "Epoch 00114: val_loss did not improve from 0.29614\n",
            "\n",
            "Epoch 00115: val_loss did not improve from 0.29614\n",
            "\n",
            "Epoch 00116: val_loss did not improve from 0.29614\n",
            "\n",
            "Epoch 00117: val_loss did not improve from 0.29614\n",
            "\n",
            "Epoch 00118: val_loss did not improve from 0.29614\n",
            "\n",
            "Epoch 00119: val_loss did not improve from 0.29614\n",
            "\n",
            "Epoch 00120: val_loss did not improve from 0.29614\n",
            "\n",
            "Epoch 00121: val_loss did not improve from 0.29614\n",
            "\n",
            "Epoch 00122: val_loss did not improve from 0.29614\n",
            "\n",
            "Epoch 00123: val_loss did not improve from 0.29614\n",
            "\n",
            "Epoch 00124: val_loss did not improve from 0.29614\n",
            "\n",
            "Epoch 00125: val_loss did not improve from 0.29614\n",
            "\n",
            "Epoch 00126: val_loss did not improve from 0.29614\n",
            "\n",
            "Epoch 00127: val_loss did not improve from 0.29614\n",
            "\n",
            "Epoch 00128: val_loss did not improve from 0.29614\n",
            "\n",
            "Epoch 00129: val_loss did not improve from 0.29614\n",
            "\n",
            "Epoch 00130: val_loss did not improve from 0.29614\n",
            "\n",
            "Epoch 00131: val_loss did not improve from 0.29614\n",
            "Epoch 00131: early stopping\n",
            "F2 of NN is\n",
            "0.5548705302096179\n",
            "Recall of NN is \n",
            "0.5538461538461539\n",
            "Precision of NN is \n",
            "0.5590062111801242\n",
            "Accuracy of NN is \n",
            "0.8884570540225418\n"
          ],
          "name": "stdout"
        },
        {
          "output_type": "display_data",
          "data": {
            "image/png": "[encoded data removed]",
            "text/plain": [
              "<Figure size 432x288 with 1 Axes>"
            ]
          },
          "metadata": {
            "tags": [],
            "needs_background": "light"
          }
        }
      ]
    },
    {
      "cell_type": "code",
      "metadata": {
        "colab": {
          "base_uri": "https://localhost:8080/",
          "height": 368
        },
        "id": "TzFPkyCS0VY_",
        "outputId": "17126a23-c152-409c-eb42-535448f20a5d"
      },
      "source": [
        "model = Sequential()\n",
        "model.add(Dense(477, input_dim = X_06C_train.shape[1], activation='selu'))\n",
        "model.add(Dense(477, activation='selu'))\n",
        "model.add(Dropout(0.3))\n",
        "model.add(Dense(477, activation='selu'))\n",
        "model.add(Dropout(0.3))\n",
        "model.add(Dense(477, activation='selu'))\n",
        "model.add(Dense(1, activation='sigmoid'))\n",
        "\n",
        "model.compile(loss='binary_crossentropy', \n",
        "              optimizer='adam', \n",
        "              metrics=metrics,)\n",
        "\n",
        "precision2 = []\n",
        "acc2 = []\n",
        "f22 = []\n",
        "recall2 = []\n",
        "for i in range(30):\n",
        "\n",
        "  history = model.fit(x=X_06C_train, \n",
        "                    y=y_06C_train, \n",
        "                    validation_data=(X_06C_val, y_06C_val),\n",
        "                    epochs=80,\n",
        "                    batch_size=2000,\n",
        "                    class_weight=cw_06,\n",
        "                    verbose=0,\n",
        "                    )\n",
        "                    \n",
        "  f22.append(met.fbeta_score(y_06C_test, model.predict(X_06C_test).round(), beta=2))\n",
        "  recall2.append(met.recall_score(y_06C_test, model.predict(X_06C_test).round()))\n",
        "  precision2.append(met.precision_score(y_06C_test, model.predict(X_06C_test).round()))\n",
        "  acc2.append(met.accuracy_score(y_06C_test, model.predict(X_06C_test).round()))\n",
        "\n",
        "print('F2: ' + str(statistics.mean(f22)))\n",
        "print('recall: ' + str(statistics.mean(recall2)))\n",
        "print('precision: ' + str(statistics.mean(precision2)))\n",
        "print('accuracy: ' + str(statistics.mean(acc2)))\n",
        "\n",
        "plot_series(f22)"
      ],
      "execution_count": 63,
      "outputs": [
        {
          "output_type": "stream",
          "text": [
            "F2: 0.6192470235062459\n",
            "recall: 0.6497435897435897\n",
            "precision: 0.5613306868118711\n",
            "accuracy: 0.8821868117631818\n",
            "0.0006350670912635494\n"
          ],
          "name": "stdout"
        },
        {
          "output_type": "display_data",
          "data": {
            "image/png": "[encoded data removed]",
            "text/plain": [
              "<Figure size 432x288 with 1 Axes>"
            ]
          },
          "metadata": {
            "tags": [],
            "needs_background": "light"
          }
        }
      ]
    },
    {
      "cell_type": "markdown",
      "metadata": {
        "id": "seXydeJw0Ujl"
      },
      "source": [
        "The model trained and configured with the a reduced number of demographic features performes better than the complete version, just as it happened with the machine learning models. Overall, the performance regarding F2 and Recall is superior to the baseline (Logistic Regression) and SVM."
      ]
    },
    {
      "cell_type": "markdown",
      "metadata": {
        "id": "s21PKB24ebZI"
      },
      "source": [
        "##  2011-2016 Gentrification Period <a name='2011_2016_model'></a>"
      ]
    },
    {
      "cell_type": "code",
      "metadata": {
        "id": "w7Pp7-OHeEIN"
      },
      "source": [
        "reduced_11_16 = pd.read_csv('drive/MyDrive/dataset_reduced_11_16.csv')\n",
        "complete_11_16 = pd.read_csv('drive/MyDrive/dataset_complete_11_16.csv')"
      ],
      "execution_count": 65,
      "outputs": []
    },
    {
      "cell_type": "code",
      "metadata": {
        "id": "8W1mNZ93gLsF"
      },
      "source": [
        "# Normalize dataset\n",
        "scaler_R = preprocessing.MinMaxScaler()\n",
        "X_11R = reduced_11_16.drop(columns = ['SA1_MAINCO','Gentrified_11_16'], axis=1)\n",
        "X_11R[X_11R.columns] = scaler_R.fit_transform(X_11R)\n",
        "                                               \n",
        "scaler_C = preprocessing.MinMaxScaler()\n",
        "X_11C = complete_11_16.drop(columns = ['SA1_MAINCO','Gentrified_11_16'], axis=1)\n",
        "X_11C[X_11C.columns] = scaler_C.fit_transform(X_11C)\n",
        "\n",
        "# Split dataset\n",
        "X_11R_select, X_11R_test, y_11R_select, y_11R_test = train_test_split(X_11R,\n",
        "                                                                    reduced_11_16['Gentrified_11_16'], \n",
        "                                                                    test_size=0.25)\n",
        "X_11R_train, X_11R_val, y_11R_train, y_11R_val = train_test_split(X_11R_select,\n",
        "                                                                    y_11R_select, \n",
        "                                                                    test_size=0.25)\n",
        "\n",
        "X_11C_select, X_11C_test, y_11C_select, y_11C_test = train_test_split(X_11C,\n",
        "                                                                    complete_11_16['Gentrified_11_16'], \n",
        "                                                                    test_size=0.25)\n",
        "X_11C_train, X_11C_val, y_11C_train, y_11C_val = train_test_split(X_11C_select,\n",
        "                                                                    y_11C_select, \n",
        "                                                                    test_size=0.25)"
      ],
      "execution_count": 66,
      "outputs": []
    },
    {
      "cell_type": "code",
      "metadata": {
        "id": "vgF0RiEUiTn2"
      },
      "source": [
        "# Class wights fixed to the proportion of positives and negtives\n",
        "\n",
        "y_11 = reduced_11_16['Gentrified_11_16']\n",
        "int_ratio_11 = round(100*len(y_11[y_11 == True])/ len(y_11))\n",
        "\n",
        "cw_11 = {False: int_ratio_11, True: 100-int_ratio_11}"
      ],
      "execution_count": 67,
      "outputs": []
    },
    {
      "cell_type": "markdown",
      "metadata": {
        "id": "eX9tlruL8YpW"
      },
      "source": [
        "FFNN trained and configured with a reduced number of demographic features."
      ]
    },
    {
      "cell_type": "code",
      "metadata": {
        "colab": {
          "base_uri": "https://localhost:8080/",
          "height": 368
        },
        "id": "9IRp8wwJ4ltK",
        "outputId": "3262c2ac-ba0b-4654-c360-08b705189c25"
      },
      "source": [
        "model = Sequential()\n",
        "model.add(Dense(105, input_dim = X_11R_train.shape[1], activation='selu'))\n",
        "model.add(Dense(105, activation='selu'))\n",
        "model.add(Dropout(0.3))\n",
        "model.add(Dense(105, activation='selu'))\n",
        "model.add(Dropout(0.3))\n",
        "model.add(Dense(105, activation='selu'))\n",
        "model.add(Dense(1, activation='sigmoid'))\n",
        "\n",
        "model.compile(loss='binary_crossentropy', \n",
        "              optimizer='adam', \n",
        "              metrics=metrics,)\n",
        "\n",
        "precision2_11 = []\n",
        "acc2_11 = []\n",
        "f22_11 = []\n",
        "recall2_11 = []\n",
        "for i in range(30):\n",
        "\n",
        "  history = model.fit(x=X_11R_select, \n",
        "                    y=y_11R_select, \n",
        "                    epochs=50,\n",
        "                    batch_size=2000,\n",
        "                    class_weight=cw_11,\n",
        "                    verbose=0)\n",
        "                    \n",
        "  f22_11.append(met.fbeta_score(y_11R_test, model.predict(X_11R_test).round(), beta=2))\n",
        "  recall2_11.append(met.recall_score(y_11R_test, model.predict(X_11R_test).round()))\n",
        "  precision2_11.append(met.precision_score(y_11R_test, model.predict(X_11R_test).round()))\n",
        "  acc2_11.append(met.accuracy_score(y_11R_test, model.predict(X_11R_test).round()))\n",
        "\n",
        "print('F2: ' + str(statistics.mean(f22_11)))\n",
        "print('recall: ' + str(statistics.mean(recall2_11)))\n",
        "print('precision: ' + str(statistics.mean(precision2_11)))\n",
        "print('accuracy: ' + str(statistics.mean(acc2_11)))\n",
        "\n",
        "plot_series(f22)"
      ],
      "execution_count": 68,
      "outputs": [
        {
          "output_type": "stream",
          "text": [
            "F2: 0.5253364214936216\n",
            "recall: 0.6588447653429603\n",
            "precision: 0.310047807180849\n",
            "accuracy: 0.7978494623655914\n",
            "0.0004788643961352739\n"
          ],
          "name": "stdout"
        },
        {
          "output_type": "display_data",
          "data": {
            "image/png": "[encoded data removed]",
            "text/plain": [
              "<Figure size 432x288 with 1 Axes>"
            ]
          },
          "metadata": {
            "tags": [],
            "needs_background": "light"
          }
        }
      ]
    },
    {
      "cell_type": "markdown",
      "metadata": {
        "id": "OZ9l7qTl8QIN"
      },
      "source": [
        "FFNN trained and configured with all demographic features."
      ]
    },
    {
      "cell_type": "code",
      "metadata": {
        "colab": {
          "base_uri": "https://localhost:8080/",
          "height": 368
        },
        "id": "TBoy3dMC5Hnq",
        "outputId": "59aa4908-37fc-43dc-ab6d-7bfcccfd97aa"
      },
      "source": [
        "model = Sequential()\n",
        "model.add(Dense(477, input_dim = X_11C_train.shape[1], activation='selu'))\n",
        "model.add(Dense(477, activation='selu'))\n",
        "model.add(Dropout(0.3))\n",
        "model.add(Dense(477, activation='selu'))\n",
        "model.add(Dropout(0.3))\n",
        "model.add(Dense(477, activation='selu'))\n",
        "model.add(Dense(1, activation='sigmoid'))\n",
        "\n",
        "model.compile(loss='binary_crossentropy', \n",
        "              optimizer='adam', \n",
        "              metrics=metrics,)\n",
        "\n",
        "precision2 = []\n",
        "acc2 = []\n",
        "f22 = []\n",
        "recall2 = []\n",
        "for i in range(30):\n",
        "\n",
        "  history = model.fit(x=X_11C_train, \n",
        "                    y=y_11C_train, \n",
        "                    validation_data=(X_11C_val, y_11C_val),\n",
        "                    epochs=80,\n",
        "                    batch_size=2000,\n",
        "                    class_weight=cw_11,\n",
        "                    verbose=0,\n",
        "                    )\n",
        "                    \n",
        "  f22.append(met.fbeta_score(y_11C_test, model.predict(X_11C_test).round(), beta=2))\n",
        "  recall2.append(met.recall_score(y_11C_test, model.predict(X_11C_test).round()))\n",
        "  precision2.append(met.precision_score(y_11C_test, model.predict(X_11C_test).round()))\n",
        "  acc2.append(met.accuracy_score(y_11C_test, model.predict(X_11C_test).round()))\n",
        "\n",
        "print('F2: ' + str(statistics.mean(f22)))\n",
        "print('recall: ' + str(statistics.mean(recall2)))\n",
        "print('precision: ' + str(statistics.mean(precision2)))\n",
        "print('accuracy: ' + str(statistics.mean(acc2)))\n",
        "\n",
        "plot_series(f22)"
      ],
      "execution_count": 69,
      "outputs": [
        {
          "output_type": "stream",
          "text": [
            "F2: 0.33870098781108554\n",
            "recall: 0.3471655328798186\n",
            "precision: 0.3475788344456706\n",
            "accuracy: 0.8473766031869413\n",
            "0.005939197828149366\n"
          ],
          "name": "stdout"
        },
        {
          "output_type": "display_data",
          "data": {
            "image/png": "[encoded data removed]",
            "text/plain": [
              "<Figure size 432x288 with 1 Axes>"
            ]
          },
          "metadata": {
            "tags": [],
            "needs_background": "light"
          }
        }
      ]
    },
    {
      "cell_type": "markdown",
      "metadata": {
        "id": "pGn4NAO38HbI"
      },
      "source": [
        "Just like in the off-the-shelf machine learning models, the gentrification period between 2011 and 2016 shows a poorer performance."
      ]
    },
    {
      "cell_type": "code",
      "metadata": {
        "id": "0YmCI-QB5g0B"
      },
      "source": [
        ""
      ],
      "execution_count": null,
      "outputs": []
    }
  ]
}