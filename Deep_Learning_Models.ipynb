{
  "nbformat": 4,
  "nbformat_minor": 0,
  "metadata": {
    "colab": {
      "name": "Deep_Learning_Models.ipynb",
      "provenance": []
    },
    "kernelspec": {
      "name": "python3",
      "display_name": "Python 3"
    },
    "language_info": {
      "name": "python"
    },
    "accelerator": "GPU"
  },
  "cells": [
    {
      "cell_type": "markdown",
      "metadata": {
        "id": "D18opwVb-4QR"
      },
      "source": [
        ""
      ]
    },
    {
      "cell_type": "code",
      "metadata": {
        "id": "fttktb5wclCL"
      },
      "source": [
        "import pandas as pd\n",
        "import sklearn.metrics as met\n",
        "import tensorflow as tf\n",
        "import numpy as np\n",
        "import matplotlib.pyplot as plt\n",
        "import statistics\n",
        "from sklearn import preprocessing\n",
        "from tensorflow.keras.models import Sequential\n",
        "from tensorflow.keras.layers import Dense, Dropout\n",
        "from sklearn.model_selection import train_test_split"
      ],
      "execution_count": 50,
      "outputs": []
    },
    {
      "cell_type": "markdown",
      "metadata": {
        "id": "w9KOTKyQdJC5"
      },
      "source": [
        "# Binary Prediction of Gentrified Tracts in Melbourne"
      ]
    },
    {
      "cell_type": "markdown",
      "metadata": {
        "id": "uPUosfxecreP"
      },
      "source": [
        "This noteboke containes the Feed-Forward Neural Networks (FFNN) used to model a binary classification problem about transit-induced gentrification in Melbourne. There are two gentrification periods to be analysed: 2006-2016 and 2011-2016. The training labels were obtained following Freeman's 5-step definition of gentrified areas.\n",
        "\n",
        "The evaluation process is centered around Recall. In order to do wo while preventing the models from predicting all instances as positive, the main metric is F2 with recall being twice as aimportant as precision."
      ]
    },
    {
      "cell_type": "markdown",
      "metadata": {
        "id": "Zgy6BL1meOLN"
      },
      "source": [
        "# Table of Contents\n",
        "\n",
        "1. [Models for 2006-2016 Gentrification Period](#2006_2016_model)\n",
        "\n",
        "2. [Models for 2011-2016 Gentrification Period](#2011_2016_model)"
      ]
    },
    {
      "cell_type": "code",
      "metadata": {
        "id": "_WzzBPsEdGK8"
      },
      "source": [
        "# Function to print evaluation metrics\n",
        "\n",
        "def print_metrics(model, y_test, X_test, name='model'):\n",
        "    f2 = met.fbeta_score(y_test, model.predict(X_test), beta=2)\n",
        "    print('F2: {}'.format(round(f2,3)))\n",
        "    recall = met.recall_score(y_test, model.predict(X_test))\n",
        "    print('Recall: {}'.format(round(recall,3)))\n",
        "    precision = met.precision_score(y_test, model.predict(X_test))\n",
        "    print('Precision: {}'.format(round(precision,3)))\n",
        "    acc = met.accuracy_score(y_test, model.predict(X_test))\n",
        "    print('Accuracy: {}'.format(round(acc,3)))"
      ],
      "execution_count": 51,
      "outputs": []
    },
    {
      "cell_type": "code",
      "metadata": {
        "id": "PQQURTP8diW9"
      },
      "source": [
        "# Function to plot Precision-Recall Curve\n",
        "\n",
        "def plot_PRC(y_test, y_prob, name='model'):\n",
        "    precision, recall, thresholds = met.precision_recall_curve(y_test, y_prob)\n",
        "    pr_auc = met.auc(recall, precision)\n",
        "    print('The PR-AUC: ' + str(round(pr_auc,3)))\n",
        "    # plot the precision-recall curves\n",
        "    no_skill = len(y_test[y_test==True]) / len(y_test)\n",
        "    plt.plot([0, 1], [no_skill, no_skill], linestyle='--', label='No Skill')\n",
        "    plt.plot(recall, precision, marker='.', label=name)\n",
        "    # axis labels\n",
        "    plt.xlabel('Recall')\n",
        "    plt.ylabel('Precision')\n",
        "    plt.ylim(0,1)\n",
        "    # show the legend\n",
        "    plt.legend()\n",
        "    # show the plot\n",
        "    plt.show()"
      ],
      "execution_count": 52,
      "outputs": []
    },
    {
      "cell_type": "code",
      "metadata": {
        "id": "mrSSGvk9k9sW"
      },
      "source": [
        "# Plot results used to calculate the grand mean of metrics\n",
        "\n",
        "def plot_series(met_list, name='metric'):\n",
        "  mean = statistics.mean(met_list)\n",
        "  plt.plot([0, len(met_list)], [mean, mean], linestyle='--', label='mean')\n",
        "  plt.plot(met_list, label='series')\n",
        "  plt.xlabel('series')\n",
        "  plt.ylabel(name)\n",
        "  plt.ylim(0,1)\n",
        "  plt.show\n",
        "\n",
        "  print('The variance is: ' + str(np.var(met_list)))"
      ],
      "execution_count": 53,
      "outputs": []
    },
    {
      "cell_type": "code",
      "metadata": {
        "colab": {
          "base_uri": "https://localhost:8080/"
        },
        "id": "y7hoO9EJdsmH",
        "outputId": "31e2ab57-8fff-457d-9478-8530c995eafd"
      },
      "source": [
        "from google.colab import drive\n",
        "drive.mount('/content/drive')"
      ],
      "execution_count": 54,
      "outputs": [
        {
          "output_type": "stream",
          "text": [
            "Drive already mounted at /content/drive; to attempt to forcibly remount, call drive.mount(\"/content/drive\", force_remount=True).\n"
          ],
          "name": "stdout"
        }
      ]
    },
    {
      "cell_type": "markdown",
      "metadata": {
        "id": "hDNjojGeeJ8j"
      },
      "source": [
        "##  2006-2016 Gentrification Period <a name='2006_2016_model'></a>"
      ]
    },
    {
      "cell_type": "code",
      "metadata": {
        "id": "zCXkMF3odwtp"
      },
      "source": [
        "reduced_06_16 = pd.read_csv('drive/MyDrive/dataset_reduced_06_16.csv')\n",
        "complete_06_16 = pd.read_csv('drive/MyDrive/dataset_complete_06_16.csv')"
      ],
      "execution_count": 55,
      "outputs": []
    },
    {
      "cell_type": "code",
      "metadata": {
        "id": "FQ3FdN7we3_x"
      },
      "source": [
        "# Normalize dataset\n",
        "scaler_R = preprocessing.MinMaxScaler()\n",
        "X_06R = reduced_06_16.drop(columns = ['Unnamed: 0','SA1_MAINCO','Gentrified_06_16'], axis=1)\n",
        "X_06R[X_06R.columns] = scaler_R.fit_transform(X_06R)\n",
        "                                               \n",
        "scaler_C = preprocessing.MinMaxScaler()\n",
        "X_06C = complete_06_16.drop(columns = ['Unnamed: 0','SA1_MAINCO','Gentrified_06_16'], axis=1)\n",
        "X_06C[X_06C.columns] = scaler_C.fit_transform(X_06C)\n",
        "\n",
        "# Split dataset\n",
        "X_06R_select, X_06R_test, y_06R_select, y_06R_test = train_test_split(X_06R,\n",
        "                                                                      reduced_06_16['Gentrified_06_16'], \n",
        "                                                                      test_size=0.10,\n",
        "                                                                      random_state=0)\n",
        "X_06R_train, X_06R_val, y_06R_train, y_06R_val = train_test_split(X_06R_select,\n",
        "                                                                  y_06R_select, \n",
        "                                                                  test_size=0.111,\n",
        "                                                                  random_state=0)\n",
        "\n",
        "X_06C_select, X_06C_test, y_06C_select, y_06C_test = train_test_split(X_06C,\n",
        "                                                                      complete_06_16['Gentrified_06_16'], \n",
        "                                                                      test_size=0.10,\n",
        "                                                                      random_state=0)\n",
        "X_06C_train, X_06C_val, y_06C_train, y_06C_val = train_test_split(X_06C_select,\n",
        "                                                                  y_06C_select, \n",
        "                                                                  test_size=0.111,\n",
        "                                                                  random_state=0)"
      ],
      "execution_count": 56,
      "outputs": []
    },
    {
      "cell_type": "code",
      "metadata": {
        "id": "8Y69lIVMhkjq"
      },
      "source": [
        "# Class wights fixed to the proportion of positives and negtives\n",
        "\n",
        "y_06 = reduced_06_16['Gentrified_06_16']\n",
        "int_ratio_06 = round(100*len(y_06[y_06 == True])/ len(y_06))\n",
        "\n",
        "cw_06 = {False: int_ratio_06, True: 100-int_ratio_06}"
      ],
      "execution_count": 57,
      "outputs": []
    },
    {
      "cell_type": "code",
      "metadata": {
        "id": "iJcw0TVXhTUD"
      },
      "source": [
        "# metrics\n",
        "\n",
        "metrics = [tf.keras.metrics.Recall(),\n",
        "           tf.keras.metrics.Accuracy(),\n",
        "           tf.keras.metrics.Precision(),\n",
        "           ]"
      ],
      "execution_count": 58,
      "outputs": []
    },
    {
      "cell_type": "markdown",
      "metadata": {
        "id": "1tQXSHeT8i1e"
      },
      "source": [
        "FFNN trained and configured with a reduced number of demographic features."
      ]
    },
    {
      "cell_type": "code",
      "metadata": {
        "colab": {
          "base_uri": "https://localhost:8080/",
          "height": 1000
        },
        "id": "FXmyzUiRwrLn",
        "outputId": "30925a03-edd6-427e-d965-4bab82b34cd9"
      },
      "source": [
        "from keras.callbacks import EarlyStopping\n",
        "from keras.models import load_model\n",
        "\n",
        "model_06R = Sequential()\n",
        "model_06R.add(Dense(105, input_dim = X_06R_train.shape[1], activation='selu'))\n",
        "model_06R.add(Dense(105, activation='selu'))\n",
        "model_06R.add(Dropout(0.3))\n",
        "model_06R.add(Dense(105, activation='selu'))\n",
        "model_06R.add(Dropout(0.3))\n",
        "model_06R.add(Dense(105, activation='selu'))\n",
        "model_06R.add(Dense(1, activation='sigmoid'))\n",
        "\n",
        "model_06R.compile(loss='binary_crossentropy', \n",
        "              optimizer='adam', \n",
        "              metrics=metrics,)\n",
        "\n",
        "\n",
        "es = EarlyStopping(monitor='val_loss', mode='min', verbose=1, patience=20)\n",
        "mc = tf.keras.callbacks.ModelCheckpoint('best_model.h5', \n",
        "                                        monitor='val_loss', \n",
        "                                        mode='min', \n",
        "                                        verbose=1, \n",
        "                                        save_best_only=True)\n",
        "\n",
        "history_06R = model_06R.fit(x=X_06R_train, \n",
        "                    y=y_06R_train, \n",
        "                    validation_data=(X_06R_val, y_06R_val),\n",
        "                    epochs=300,\n",
        "                    batch_size=2000,\n",
        "                    class_weight=cw_06,\n",
        "                    verbose=0,\n",
        "                    callbacks=[es, mc]\n",
        "                    )\n",
        "\n",
        "saved_model_06R = load_model('best_model.h5')\n",
        "\n",
        "plt.plot(history_06R.history['loss'], label='train')\n",
        "plt.plot(history_06R.history['val_loss'], label='test')\n",
        "plt.legend()\n",
        "plt.show"
      ],
      "execution_count": 59,
      "outputs": [
        {
          "output_type": "stream",
          "text": [
            "\n",
            "Epoch 00001: val_loss improved from inf to 0.51969, saving model to best_model.h5\n",
            "\n",
            "Epoch 00002: val_loss did not improve from 0.51969\n",
            "\n",
            "Epoch 00003: val_loss did not improve from 0.51969\n",
            "\n",
            "Epoch 00004: val_loss did not improve from 0.51969\n",
            "\n",
            "Epoch 00005: val_loss did not improve from 0.51969\n",
            "\n",
            "Epoch 00006: val_loss did not improve from 0.51969\n",
            "\n",
            "Epoch 00007: val_loss did not improve from 0.51969\n",
            "\n",
            "Epoch 00008: val_loss did not improve from 0.51969\n",
            "\n",
            "Epoch 00009: val_loss did not improve from 0.51969\n",
            "\n",
            "Epoch 00010: val_loss did not improve from 0.51969\n",
            "\n",
            "Epoch 00011: val_loss did not improve from 0.51969\n",
            "\n",
            "Epoch 00012: val_loss did not improve from 0.51969\n",
            "\n",
            "Epoch 00013: val_loss improved from 0.51969 to 0.50210, saving model to best_model.h5\n",
            "\n",
            "Epoch 00014: val_loss did not improve from 0.50210\n",
            "\n",
            "Epoch 00015: val_loss did not improve from 0.50210\n",
            "\n",
            "Epoch 00016: val_loss did not improve from 0.50210\n",
            "\n",
            "Epoch 00017: val_loss improved from 0.50210 to 0.50154, saving model to best_model.h5\n",
            "\n",
            "Epoch 00018: val_loss did not improve from 0.50154\n",
            "\n",
            "Epoch 00019: val_loss did not improve from 0.50154\n",
            "\n",
            "Epoch 00020: val_loss improved from 0.50154 to 0.46944, saving model to best_model.h5\n",
            "\n",
            "Epoch 00021: val_loss did not improve from 0.46944\n",
            "\n",
            "Epoch 00022: val_loss did not improve from 0.46944\n",
            "\n",
            "Epoch 00023: val_loss did not improve from 0.46944\n",
            "\n",
            "Epoch 00024: val_loss improved from 0.46944 to 0.43017, saving model to best_model.h5\n",
            "\n",
            "Epoch 00025: val_loss did not improve from 0.43017\n",
            "\n",
            "Epoch 00026: val_loss did not improve from 0.43017\n",
            "\n",
            "Epoch 00027: val_loss did not improve from 0.43017\n",
            "\n",
            "Epoch 00028: val_loss did not improve from 0.43017\n",
            "\n",
            "Epoch 00029: val_loss did not improve from 0.43017\n",
            "\n",
            "Epoch 00030: val_loss did not improve from 0.43017\n",
            "\n",
            "Epoch 00031: val_loss did not improve from 0.43017\n",
            "\n",
            "Epoch 00032: val_loss improved from 0.43017 to 0.41920, saving model to best_model.h5\n",
            "\n",
            "Epoch 00033: val_loss did not improve from 0.41920\n",
            "\n",
            "Epoch 00034: val_loss did not improve from 0.41920\n",
            "\n",
            "Epoch 00035: val_loss improved from 0.41920 to 0.41423, saving model to best_model.h5\n",
            "\n",
            "Epoch 00036: val_loss did not improve from 0.41423\n",
            "\n",
            "Epoch 00037: val_loss did not improve from 0.41423\n",
            "\n",
            "Epoch 00038: val_loss improved from 0.41423 to 0.38586, saving model to best_model.h5\n",
            "\n",
            "Epoch 00039: val_loss did not improve from 0.38586\n",
            "\n",
            "Epoch 00040: val_loss did not improve from 0.38586\n",
            "\n",
            "Epoch 00041: val_loss did not improve from 0.38586\n",
            "\n",
            "Epoch 00042: val_loss did not improve from 0.38586\n",
            "\n",
            "Epoch 00043: val_loss did not improve from 0.38586\n",
            "\n",
            "Epoch 00044: val_loss did not improve from 0.38586\n",
            "\n",
            "Epoch 00045: val_loss did not improve from 0.38586\n",
            "\n",
            "Epoch 00046: val_loss did not improve from 0.38586\n",
            "\n",
            "Epoch 00047: val_loss did not improve from 0.38586\n",
            "\n",
            "Epoch 00048: val_loss did not improve from 0.38586\n",
            "\n",
            "Epoch 00049: val_loss improved from 0.38586 to 0.37817, saving model to best_model.h5\n",
            "\n",
            "Epoch 00050: val_loss did not improve from 0.37817\n",
            "\n",
            "Epoch 00051: val_loss did not improve from 0.37817\n",
            "\n",
            "Epoch 00052: val_loss did not improve from 0.37817\n",
            "\n",
            "Epoch 00053: val_loss did not improve from 0.37817\n",
            "\n",
            "Epoch 00054: val_loss did not improve from 0.37817\n",
            "\n",
            "Epoch 00055: val_loss did not improve from 0.37817\n",
            "\n",
            "Epoch 00056: val_loss did not improve from 0.37817\n",
            "\n",
            "Epoch 00057: val_loss did not improve from 0.37817\n",
            "\n",
            "Epoch 00058: val_loss did not improve from 0.37817\n",
            "\n",
            "Epoch 00059: val_loss did not improve from 0.37817\n",
            "\n",
            "Epoch 00060: val_loss did not improve from 0.37817\n",
            "\n",
            "Epoch 00061: val_loss did not improve from 0.37817\n",
            "\n",
            "Epoch 00062: val_loss did not improve from 0.37817\n",
            "\n",
            "Epoch 00063: val_loss did not improve from 0.37817\n",
            "\n",
            "Epoch 00064: val_loss improved from 0.37817 to 0.34365, saving model to best_model.h5\n",
            "\n",
            "Epoch 00065: val_loss did not improve from 0.34365\n",
            "\n",
            "Epoch 00066: val_loss did not improve from 0.34365\n",
            "\n",
            "Epoch 00067: val_loss improved from 0.34365 to 0.34284, saving model to best_model.h5\n",
            "\n",
            "Epoch 00068: val_loss did not improve from 0.34284\n",
            "\n",
            "Epoch 00069: val_loss did not improve from 0.34284\n",
            "\n",
            "Epoch 00070: val_loss did not improve from 0.34284\n",
            "\n",
            "Epoch 00071: val_loss did not improve from 0.34284\n",
            "\n",
            "Epoch 00072: val_loss did not improve from 0.34284\n",
            "\n",
            "Epoch 00073: val_loss did not improve from 0.34284\n",
            "\n",
            "Epoch 00074: val_loss did not improve from 0.34284\n",
            "\n",
            "Epoch 00075: val_loss did not improve from 0.34284\n",
            "\n",
            "Epoch 00076: val_loss did not improve from 0.34284\n",
            "\n",
            "Epoch 00077: val_loss did not improve from 0.34284\n",
            "\n",
            "Epoch 00078: val_loss did not improve from 0.34284\n",
            "\n",
            "Epoch 00079: val_loss did not improve from 0.34284\n",
            "\n",
            "Epoch 00080: val_loss did not improve from 0.34284\n",
            "\n",
            "Epoch 00081: val_loss did not improve from 0.34284\n",
            "\n",
            "Epoch 00082: val_loss did not improve from 0.34284\n",
            "\n",
            "Epoch 00083: val_loss did not improve from 0.34284\n",
            "\n",
            "Epoch 00084: val_loss did not improve from 0.34284\n",
            "\n",
            "Epoch 00085: val_loss did not improve from 0.34284\n",
            "\n",
            "Epoch 00086: val_loss did not improve from 0.34284\n",
            "\n",
            "Epoch 00087: val_loss did not improve from 0.34284\n",
            "Epoch 00087: early stopping\n"
          ],
          "name": "stdout"
        },
        {
          "output_type": "execute_result",
          "data": {
            "text/plain": [
              "<function matplotlib.pyplot.show>"
            ]
          },
          "metadata": {
            "tags": []
          },
          "execution_count": 59
        },
        {
          "output_type": "display_data",
          "data": {
            "image/png": "[encoded data removed]",
            "text/plain": [
              "<Figure size 432x288 with 1 Axes>"
            ]
          },
          "metadata": {
            "tags": [],
            "needs_background": "light"
          }
        }
      ]
    },
    {
      "cell_type": "code",
      "metadata": {
        "colab": {
          "base_uri": "https://localhost:8080/",
          "height": 300
        },
        "id": "hOT37kdqr0Yx",
        "outputId": "02d5624f-3583-446c-a1ac-3908d0b60865"
      },
      "source": [
        "plot_PRC(y_06R_test,saved_model_06R.predict( X_06R_test), name='FFNN')"
      ],
      "execution_count": 60,
      "outputs": [
        {
          "output_type": "stream",
          "text": [
            "The PR-AUC: 0.423\n"
          ],
          "name": "stdout"
        },
        {
          "output_type": "display_data",
          "data": {
            "image/png": "[encoded data removed]",
            "text/plain": [
              "<Figure size 432x288 with 1 Axes>"
            ]
          },
          "metadata": {
            "tags": [],
            "needs_background": "light"
          }
        }
      ]
    },
    {
      "cell_type": "markdown",
      "metadata": {
        "id": "ORUiQ51eqggS"
      },
      "source": [
        "The eventhough the validation loss doesnt seem to decrease after the first epochs, the early-stopping callback shows the right moment to stop the training with the given patience."
      ]
    },
    {
      "cell_type": "code",
      "metadata": {
        "colab": {
          "base_uri": "https://localhost:8080/",
          "height": 368
        },
        "id": "5rlrh9RWjbez",
        "outputId": "c18a71d3-abc6-40e0-f3a8-3b7f3921dea2"
      },
      "source": [
        "model = Sequential()\n",
        "model.add(Dense(105, input_dim = X_06R_train.shape[1], activation='selu'))\n",
        "model.add(Dense(105, activation='selu'))\n",
        "model.add(Dropout(0.4))\n",
        "model.add(Dense(105, activation='selu'))\n",
        "model.add(Dropout(0.4))\n",
        "model.add(Dense(105, activation='selu'))\n",
        "model.add(Dense(1, activation='sigmoid'))\n",
        "\n",
        "model.compile(loss='binary_crossentropy', \n",
        "              optimizer='adam', \n",
        "              metrics=metrics,)\n",
        "\n",
        "precision_06R = []\n",
        "acc_06R = []\n",
        "f2_06R = []\n",
        "recall_06R = []\n",
        "for i in range(30):\n",
        "\n",
        "  history = model.fit(x=X_06R_select, \n",
        "                    y=y_06R_select, \n",
        "                    epochs=50,\n",
        "                    batch_size=2000,\n",
        "                    class_weight=cw_06,\n",
        "                    verbose=0)\n",
        "                    \n",
        "  f2_06R.append(met.fbeta_score(y_06R_test, model.predict(X_06R_test).round(), beta=2))\n",
        "  recall_06R.append(met.recall_score(y_06R_test, model.predict(X_06R_test).round()))\n",
        "  precision_06R.append(met.precision_score(y_06R_test, model.predict(X_06R_test).round()))\n",
        "  acc_06R.append(met.accuracy_score(y_06R_test, model.predict(X_06R_test).round()))\n",
        "\n",
        "print('F2: ' + str(statistics.mean(f2_06R)))\n",
        "print('recall: ' + str(statistics.mean(recall_06R)))\n",
        "print('precision: ' + str(statistics.mean(precision_06R)))\n",
        "print('accuracy: ' + str(statistics.mean(acc_06R)))\n",
        "\n",
        "plot_series(f2_06R)"
      ],
      "execution_count": 37,
      "outputs": [
        {
          "output_type": "stream",
          "text": [
            "F2: 0.7304919664129482\n",
            "recall: 0.8234567901234567\n",
            "precision: 0.5361547798861023\n",
            "accuracy: 0.8702947845804988\n",
            "The variance is: 0.0013030428853787466\n"
          ],
          "name": "stdout"
        },
        {
          "output_type": "display_data",
          "data": {
            "image/png": "[encoded data removed]",
            "text/plain": [
              "<Figure size 432x288 with 1 Axes>"
            ]
          },
          "metadata": {
            "tags": [],
            "needs_background": "light"
          }
        }
      ]
    },
    {
      "cell_type": "markdown",
      "metadata": {
        "id": "BoQqqSzp8mk8"
      },
      "source": [
        "FFNN trained and configured with all demographic features."
      ]
    },
    {
      "cell_type": "code",
      "metadata": {
        "colab": {
          "base_uri": "https://localhost:8080/",
          "height": 1000
        },
        "id": "JpMtxr6gzVcu",
        "outputId": "1e6014cb-0ef1-4686-8bc5-8b45ce3c0b59"
      },
      "source": [
        "from keras.callbacks import EarlyStopping\n",
        "from keras.models import load_model\n",
        "\n",
        "model_06C = Sequential()\n",
        "model_06C.add(Dense(477, input_dim = X_06C_train.shape[1], activation='selu'))\n",
        "model_06C.add(Dense(477, activation='selu'))\n",
        "model_06C.add(Dropout(0.4))\n",
        "model_06C.add(Dense(477, activation='selu'))\n",
        "model_06C.add(Dropout(0.4))\n",
        "model_06C.add(Dense(477, activation='selu'))\n",
        "model_06C.add(Dense(1, activation='sigmoid'))\n",
        "\n",
        "model_06C.compile(loss='binary_crossentropy', \n",
        "              optimizer='adam', \n",
        "              metrics=metrics,)\n",
        "\n",
        "\n",
        "es = EarlyStopping(monitor='val_loss', mode='min', verbose=1, patience=50)\n",
        "mc = tf.keras.callbacks.ModelCheckpoint('best_model.h5', \n",
        "                                        monitor='val_loss', \n",
        "                                        mode='min', \n",
        "                                        verbose=1, \n",
        "                                        save_best_only=True)\n",
        "\n",
        "history_06C = model_06C.fit(x=X_06C_train, \n",
        "                    y=y_06C_train, \n",
        "                    validation_data=(X_06C_val, y_06C_val),\n",
        "                    epochs=300,\n",
        "                    batch_size=2000,\n",
        "                    class_weight=cw_06,\n",
        "                    verbose=0,\n",
        "                    callbacks=[es, mc]\n",
        "                    )\n",
        "\n",
        "saved_model_06C = load_model('best_model.h5')\n",
        "\n",
        "plt.plot(history_06C.history['loss'], label='train')\n",
        "plt.plot(history_06C.history['val_loss'], label='test')\n",
        "plt.legend()\n",
        "plt.show"
      ],
      "execution_count": 67,
      "outputs": [
        {
          "output_type": "stream",
          "text": [
            "\n",
            "Epoch 00001: val_loss improved from inf to 0.37994, saving model to best_model.h5\n",
            "\n",
            "Epoch 00002: val_loss did not improve from 0.37994\n",
            "\n",
            "Epoch 00003: val_loss did not improve from 0.37994\n",
            "\n",
            "Epoch 00004: val_loss did not improve from 0.37994\n",
            "\n",
            "Epoch 00005: val_loss did not improve from 0.37994\n",
            "\n",
            "Epoch 00006: val_loss did not improve from 0.37994\n",
            "\n",
            "Epoch 00007: val_loss did not improve from 0.37994\n",
            "\n",
            "Epoch 00008: val_loss did not improve from 0.37994\n",
            "\n",
            "Epoch 00009: val_loss did not improve from 0.37994\n",
            "\n",
            "Epoch 00010: val_loss did not improve from 0.37994\n",
            "\n",
            "Epoch 00011: val_loss did not improve from 0.37994\n",
            "\n",
            "Epoch 00012: val_loss did not improve from 0.37994\n",
            "\n",
            "Epoch 00013: val_loss did not improve from 0.37994\n",
            "\n",
            "Epoch 00014: val_loss did not improve from 0.37994\n",
            "\n",
            "Epoch 00015: val_loss improved from 0.37994 to 0.35154, saving model to best_model.h5\n",
            "\n",
            "Epoch 00016: val_loss improved from 0.35154 to 0.29394, saving model to best_model.h5\n",
            "\n",
            "Epoch 00017: val_loss did not improve from 0.29394\n",
            "\n",
            "Epoch 00018: val_loss did not improve from 0.29394\n",
            "\n",
            "Epoch 00019: val_loss did not improve from 0.29394\n",
            "\n",
            "Epoch 00020: val_loss did not improve from 0.29394\n",
            "\n",
            "Epoch 00021: val_loss did not improve from 0.29394\n",
            "\n",
            "Epoch 00022: val_loss did not improve from 0.29394\n",
            "\n",
            "Epoch 00023: val_loss did not improve from 0.29394\n",
            "\n",
            "Epoch 00024: val_loss did not improve from 0.29394\n",
            "\n",
            "Epoch 00025: val_loss did not improve from 0.29394\n",
            "\n",
            "Epoch 00026: val_loss did not improve from 0.29394\n",
            "\n",
            "Epoch 00027: val_loss did not improve from 0.29394\n",
            "\n",
            "Epoch 00028: val_loss did not improve from 0.29394\n",
            "\n",
            "Epoch 00029: val_loss did not improve from 0.29394\n",
            "\n",
            "Epoch 00030: val_loss did not improve from 0.29394\n",
            "\n",
            "Epoch 00031: val_loss did not improve from 0.29394\n",
            "\n",
            "Epoch 00032: val_loss did not improve from 0.29394\n",
            "\n",
            "Epoch 00033: val_loss did not improve from 0.29394\n",
            "\n",
            "Epoch 00034: val_loss did not improve from 0.29394\n",
            "\n",
            "Epoch 00035: val_loss did not improve from 0.29394\n",
            "\n",
            "Epoch 00036: val_loss improved from 0.29394 to 0.25052, saving model to best_model.h5\n",
            "\n",
            "Epoch 00037: val_loss did not improve from 0.25052\n",
            "\n",
            "Epoch 00038: val_loss did not improve from 0.25052\n",
            "\n",
            "Epoch 00039: val_loss did not improve from 0.25052\n",
            "\n",
            "Epoch 00040: val_loss did not improve from 0.25052\n",
            "\n",
            "Epoch 00041: val_loss did not improve from 0.25052\n",
            "\n",
            "Epoch 00042: val_loss did not improve from 0.25052\n",
            "\n",
            "Epoch 00043: val_loss did not improve from 0.25052\n",
            "\n",
            "Epoch 00044: val_loss did not improve from 0.25052\n",
            "\n",
            "Epoch 00045: val_loss did not improve from 0.25052\n",
            "\n",
            "Epoch 00046: val_loss did not improve from 0.25052\n",
            "\n",
            "Epoch 00047: val_loss did not improve from 0.25052\n",
            "\n",
            "Epoch 00048: val_loss did not improve from 0.25052\n",
            "\n",
            "Epoch 00049: val_loss did not improve from 0.25052\n",
            "\n",
            "Epoch 00050: val_loss did not improve from 0.25052\n",
            "\n",
            "Epoch 00051: val_loss did not improve from 0.25052\n",
            "\n",
            "Epoch 00052: val_loss did not improve from 0.25052\n",
            "\n",
            "Epoch 00053: val_loss did not improve from 0.25052\n",
            "\n",
            "Epoch 00054: val_loss did not improve from 0.25052\n",
            "\n",
            "Epoch 00055: val_loss did not improve from 0.25052\n",
            "\n",
            "Epoch 00056: val_loss did not improve from 0.25052\n",
            "\n",
            "Epoch 00057: val_loss did not improve from 0.25052\n",
            "\n",
            "Epoch 00058: val_loss did not improve from 0.25052\n",
            "\n",
            "Epoch 00059: val_loss did not improve from 0.25052\n",
            "\n",
            "Epoch 00060: val_loss did not improve from 0.25052\n",
            "\n",
            "Epoch 00061: val_loss did not improve from 0.25052\n",
            "\n",
            "Epoch 00062: val_loss did not improve from 0.25052\n",
            "\n",
            "Epoch 00063: val_loss did not improve from 0.25052\n",
            "\n",
            "Epoch 00064: val_loss did not improve from 0.25052\n",
            "\n",
            "Epoch 00065: val_loss did not improve from 0.25052\n",
            "\n",
            "Epoch 00066: val_loss did not improve from 0.25052\n",
            "\n",
            "Epoch 00067: val_loss did not improve from 0.25052\n",
            "\n",
            "Epoch 00068: val_loss did not improve from 0.25052\n",
            "\n",
            "Epoch 00069: val_loss did not improve from 0.25052\n",
            "\n",
            "Epoch 00070: val_loss did not improve from 0.25052\n",
            "\n",
            "Epoch 00071: val_loss did not improve from 0.25052\n",
            "\n",
            "Epoch 00072: val_loss did not improve from 0.25052\n",
            "\n",
            "Epoch 00073: val_loss did not improve from 0.25052\n",
            "\n",
            "Epoch 00074: val_loss did not improve from 0.25052\n",
            "\n",
            "Epoch 00075: val_loss did not improve from 0.25052\n",
            "\n",
            "Epoch 00076: val_loss did not improve from 0.25052\n",
            "\n",
            "Epoch 00077: val_loss did not improve from 0.25052\n",
            "\n",
            "Epoch 00078: val_loss did not improve from 0.25052\n",
            "\n",
            "Epoch 00079: val_loss did not improve from 0.25052\n",
            "\n",
            "Epoch 00080: val_loss did not improve from 0.25052\n",
            "\n",
            "Epoch 00081: val_loss did not improve from 0.25052\n",
            "\n",
            "Epoch 00082: val_loss did not improve from 0.25052\n",
            "\n",
            "Epoch 00083: val_loss did not improve from 0.25052\n",
            "\n",
            "Epoch 00084: val_loss did not improve from 0.25052\n",
            "\n",
            "Epoch 00085: val_loss did not improve from 0.25052\n",
            "\n",
            "Epoch 00086: val_loss did not improve from 0.25052\n",
            "Epoch 00086: early stopping\n"
          ],
          "name": "stdout"
        },
        {
          "output_type": "execute_result",
          "data": {
            "text/plain": [
              "<function matplotlib.pyplot.show>"
            ]
          },
          "metadata": {
            "tags": []
          },
          "execution_count": 67
        },
        {
          "output_type": "display_data",
          "data": {
            "image/png": "[encoded data removed]",
            "text/plain": [
              "<Figure size 432x288 with 1 Axes>"
            ]
          },
          "metadata": {
            "tags": [],
            "needs_background": "light"
          }
        }
      ]
    },
    {
      "cell_type": "code",
      "metadata": {
        "colab": {
          "base_uri": "https://localhost:8080/",
          "height": 300
        },
        "id": "3PqbxEHCtm8I",
        "outputId": "8d5dac24-a55b-484f-84cd-fda64ca2ef67"
      },
      "source": [
        "plot_PRC(y_06C_test,saved_model_06C.predict( X_06C_test), name='FFNN')"
      ],
      "execution_count": 64,
      "outputs": [
        {
          "output_type": "stream",
          "text": [
            "The PR-AUC: 0.542\n"
          ],
          "name": "stdout"
        },
        {
          "output_type": "display_data",
          "data": {
            "image/png": "[encoded data removed]",
            "text/plain": [
              "<Figure size 432x288 with 1 Axes>"
            ]
          },
          "metadata": {
            "tags": [],
            "needs_background": "light"
          }
        }
      ]
    },
    {
      "cell_type": "markdown",
      "metadata": {
        "id": "MVU3AlCFqrkS"
      },
      "source": [
        "The eventhough the validation loss doesnt seem to decrease after the first epochs, the early-stopping callback shows the right moment to stop the training with the given patience. For the complete set of demographic features the right number epoch seems to differ little from  that of the models trained with a reduced number of demographic features."
      ]
    },
    {
      "cell_type": "code",
      "metadata": {
        "colab": {
          "base_uri": "https://localhost:8080/",
          "height": 368
        },
        "id": "TzFPkyCS0VY_",
        "outputId": "6f330ad2-ef93-4e39-aaeb-8001e227d8ab"
      },
      "source": [
        "model = Sequential()\n",
        "model.add(Dense(477, input_dim = X_06C_train.shape[1], activation='selu'))\n",
        "model.add(Dense(477, activation='selu'))\n",
        "model.add(Dropout(0.4))\n",
        "model.add(Dense(477, activation='selu'))\n",
        "model.add(Dropout(0.4))\n",
        "model.add(Dense(477, activation='selu'))\n",
        "model.add(Dense(1, activation='sigmoid'))\n",
        "\n",
        "model.compile(loss='binary_crossentropy', \n",
        "              optimizer='adam', \n",
        "              metrics=metrics,)\n",
        "\n",
        "precision_06C = []\n",
        "acc_06C = []\n",
        "f2_06C = []\n",
        "recall_06C = []\n",
        "for i in range(30):\n",
        "\n",
        "  history = model.fit(x=X_06C_train, \n",
        "                    y=y_06C_train, \n",
        "                    validation_data=(X_06C_val, y_06C_val),\n",
        "                    epochs=50,\n",
        "                    batch_size=2000,\n",
        "                    class_weight=cw_06,\n",
        "                    verbose=0,\n",
        "                    )\n",
        "                    \n",
        "  f2_06C.append(met.fbeta_score(y_06C_test, model.predict(X_06C_test).round(), beta=2))\n",
        "  recall_06C.append(met.recall_score(y_06C_test, model.predict(X_06C_test).round()))\n",
        "  precision_06C.append(met.precision_score(y_06C_test, model.predict(X_06C_test).round()))\n",
        "  acc_06C.append(met.accuracy_score(y_06C_test, model.predict(X_06C_test).round()))\n",
        "\n",
        "print('F2: ' + str(statistics.mean(f2_06C)))\n",
        "print('recall: ' + str(statistics.mean(recall_06C)))\n",
        "print('precision: ' + str(statistics.mean(precision_06C)))\n",
        "print('accuracy: ' + str(statistics.mean(acc_06C)))\n",
        "\n",
        "plot_series(f2_06C)"
      ],
      "execution_count": 66,
      "outputs": [
        {
          "output_type": "stream",
          "text": [
            "F2: 0.6914941966678579\n",
            "recall: 0.7054320987654321\n",
            "precision: 0.6538716101429535\n",
            "accuracy: 0.9098801425332037\n",
            "The variance is: 0.00121374201738395\n"
          ],
          "name": "stdout"
        },
        {
          "output_type": "display_data",
          "data": {
            "image/png": "[encoded data removed]",
            "text/plain": [
              "<Figure size 432x288 with 1 Axes>"
            ]
          },
          "metadata": {
            "tags": [],
            "needs_background": "light"
          }
        }
      ]
    },
    {
      "cell_type": "markdown",
      "metadata": {
        "id": "seXydeJw0Ujl"
      },
      "source": [
        "The model trained and configured with the a reduced number of demographic features performes better than the complete version, just as it happened with the machine learning models. Overall, the performance regarding F2 and Recall is superior to the baseline (Logistic Regression) and SVM."
      ]
    },
    {
      "cell_type": "markdown",
      "metadata": {
        "id": "s21PKB24ebZI"
      },
      "source": [
        "##  2011-2016 Gentrification Period <a name='2011_2016_model'></a>"
      ]
    },
    {
      "cell_type": "code",
      "metadata": {
        "id": "w7Pp7-OHeEIN"
      },
      "source": [
        "reduced_11_16 = pd.read_csv('drive/MyDrive/dataset_reduced_11_16.csv')\n",
        "complete_11_16 = pd.read_csv('drive/MyDrive/dataset_complete_11_16.csv')"
      ],
      "execution_count": 40,
      "outputs": []
    },
    {
      "cell_type": "code",
      "metadata": {
        "id": "8W1mNZ93gLsF"
      },
      "source": [
        "# Normalize dataset\n",
        "scaler_R = preprocessing.MinMaxScaler()\n",
        "X_11R = reduced_11_16.drop(columns = ['Unnamed: 0','SA1_MAINCO','Gentrified_11_16'], axis=1)\n",
        "X_11R[X_11R.columns] = scaler_R.fit_transform(X_11R)\n",
        "                                               \n",
        "scaler_C = preprocessing.MinMaxScaler()\n",
        "X_11C = complete_11_16.drop(columns = ['Unnamed: 0','SA1_MAINCO','Gentrified_11_16'], axis=1)\n",
        "X_11C[X_11C.columns] = scaler_C.fit_transform(X_11C)\n",
        "\n",
        "# Split dataset\n",
        "X_11R_select, X_11R_test, y_11R_select, y_11R_test = train_test_split(X_11R,\n",
        "                                                                    reduced_11_16['Gentrified_11_16'], \n",
        "                                                                    test_size=0.10,\n",
        "                                                                    random_state=0)\n",
        "X_11R_train, X_11R_val, y_11R_train, y_11R_val = train_test_split(X_11R_select,\n",
        "                                                                    y_11R_select, \n",
        "                                                                    test_size=0.111,\n",
        "                                                                  random_state=0)\n",
        "\n",
        "X_11C_select, X_11C_test, y_11C_select, y_11C_test = train_test_split(X_11C,\n",
        "                                                                    complete_11_16['Gentrified_11_16'], \n",
        "                                                                    test_size=0.10,\n",
        "                                                                    random_state=0)\n",
        "X_11C_train, X_11C_val, y_11C_train, y_11C_val = train_test_split(X_11C_select,\n",
        "                                                                    y_11C_select, \n",
        "                                                                    test_size=0.111,\n",
        "                                                                  random_state=0)"
      ],
      "execution_count": 41,
      "outputs": []
    },
    {
      "cell_type": "code",
      "metadata": {
        "id": "vgF0RiEUiTn2"
      },
      "source": [
        "# Class wights fixed to the proportion of positives and negtives\n",
        "\n",
        "y_11 = reduced_11_16['Gentrified_11_16']\n",
        "int_ratio_11 = round(100*len(y_11[y_11 == True])/ len(y_11))\n",
        "\n",
        "cw_11 = {False: int_ratio_11, True: 100-int_ratio_11}"
      ],
      "execution_count": 42,
      "outputs": []
    },
    {
      "cell_type": "markdown",
      "metadata": {
        "id": "eX9tlruL8YpW"
      },
      "source": [
        "FFNN trained and configured with a reduced number of demographic features."
      ]
    },
    {
      "cell_type": "code",
      "metadata": {
        "colab": {
          "base_uri": "https://localhost:8080/",
          "height": 368
        },
        "id": "9IRp8wwJ4ltK",
        "outputId": "567e2699-c4c4-43ba-a507-630d1f3f9270"
      },
      "source": [
        "model = Sequential()\n",
        "model.add(Dense(105, input_dim = X_11R_train.shape[1], activation='selu'))\n",
        "model.add(Dense(105, activation='selu'))\n",
        "model.add(Dropout(0.4))\n",
        "model.add(Dense(105, activation='selu'))\n",
        "model.add(Dropout(0.4))\n",
        "model.add(Dense(105, activation='selu'))\n",
        "model.add(Dense(1, activation='sigmoid'))\n",
        "\n",
        "model.compile(loss='binary_crossentropy', \n",
        "              optimizer='adam', \n",
        "              metrics=metrics,)\n",
        "\n",
        "precision_11R = []\n",
        "acc_11R = []\n",
        "f2_11R = []\n",
        "recall_11R = []\n",
        "for i in range(10):\n",
        "\n",
        "  history = model.fit(x=X_11R_select, \n",
        "                    y=y_11R_select, \n",
        "                    epochs=50,\n",
        "                    batch_size=2000,\n",
        "                    class_weight=cw_11,\n",
        "                    verbose=0)\n",
        "                    \n",
        "  f2_11R.append(met.fbeta_score(y_11R_test, model.predict(X_11R_test).round(), beta=2))\n",
        "  recall_11R.append(met.recall_score(y_11R_test, model.predict(X_11R_test).round()))\n",
        "  precision_11R.append(met.precision_score(y_11R_test, model.predict(X_11R_test).round()))\n",
        "  acc_11R.append(met.accuracy_score(y_11R_test, model.predict(X_11R_test).round()))\n",
        "\n",
        "print('F2: ' + str(statistics.mean(f2_11R)))\n",
        "print('recall: ' + str(statistics.mean(recall_11R)))\n",
        "print('precision: ' + str(statistics.mean(precision_11R)))\n",
        "print('accuracy: ' + str(statistics.mean(acc_11R)))\n",
        "\n",
        "plot_series(f2_11R)"
      ],
      "execution_count": 43,
      "outputs": [
        {
          "output_type": "stream",
          "text": [
            "F2: 0.5616289694359605\n",
            "recall: 0.6676923076923077\n",
            "precision: 0.3684215013802628\n",
            "accuracy: 0.8043083900226757\n",
            "The variance is: 0.0002086905406897102\n"
          ],
          "name": "stdout"
        },
        {
          "output_type": "display_data",
          "data": {
            "image/png": "[encoded data removed]",
            "text/plain": [
              "<Figure size 432x288 with 1 Axes>"
            ]
          },
          "metadata": {
            "tags": [],
            "needs_background": "light"
          }
        }
      ]
    },
    {
      "cell_type": "markdown",
      "metadata": {
        "id": "OZ9l7qTl8QIN"
      },
      "source": [
        "FFNN trained and configured with all demographic features."
      ]
    },
    {
      "cell_type": "code",
      "metadata": {
        "colab": {
          "base_uri": "https://localhost:8080/",
          "height": 368
        },
        "id": "TBoy3dMC5Hnq",
        "outputId": "51a1dc54-df77-4c56-f30f-0e33e9359410"
      },
      "source": [
        "model = Sequential()\n",
        "model.add(Dense(477, input_dim = X_11C_train.shape[1], activation='selu'))\n",
        "model.add(Dense(477, activation='selu'))\n",
        "model.add(Dropout(0.4))\n",
        "model.add(Dense(477, activation='selu'))\n",
        "model.add(Dropout(0.4))\n",
        "model.add(Dense(477, activation='selu'))\n",
        "model.add(Dense(1, activation='sigmoid'))\n",
        "\n",
        "model.compile(loss='binary_crossentropy', \n",
        "              optimizer='adam', \n",
        "              metrics=metrics,)\n",
        "\n",
        "precision_11C = []\n",
        "acc_11C = []\n",
        "f2_11C = []\n",
        "recall_11C = []\n",
        "for i in range(30):\n",
        "\n",
        "  history = model.fit(x=X_11C_train, \n",
        "                    y=y_11C_train, \n",
        "                    validation_data=(X_11C_val, y_11C_val),\n",
        "                    epochs=50,\n",
        "                    batch_size=2000,\n",
        "                    class_weight=cw_11,\n",
        "                    verbose=0,\n",
        "                    )\n",
        "                    \n",
        "  f2_11C.append(met.fbeta_score(y_11C_test, model.predict(X_11C_test).round(), beta=2))\n",
        "  recall_11C.append(met.recall_score(y_11C_test, model.predict(X_11C_test).round()))\n",
        "  precision_11C.append(met.precision_score(y_11C_test, model.predict(X_11C_test).round()))\n",
        "  acc_11C.append(met.accuracy_score(y_11C_test, model.predict(X_11C_test).round()))\n",
        "\n",
        "print('F2: ' + str(statistics.mean(f2_11C)))\n",
        "print('recall: ' + str(statistics.mean(recall_11C)))\n",
        "print('precision: ' + str(statistics.mean(precision_11C)))\n",
        "print('accuracy: ' + str(statistics.mean(acc_11C)))\n",
        "\n",
        "plot_series(f2_11C)"
      ],
      "execution_count": 44,
      "outputs": [
        {
          "output_type": "stream",
          "text": [
            "F2: 0.3322427535533208\n",
            "recall: 0.34690265486725663\n",
            "precision: 0.2949149525489095\n",
            "accuracy: 0.836767087787496\n",
            "The variance is: 0.0032314725316097523\n"
          ],
          "name": "stdout"
        },
        {
          "output_type": "display_data",
          "data": {
            "image/png": "[encoded data removed]",
            "text/plain": [
              "<Figure size 432x288 with 1 Axes>"
            ]
          },
          "metadata": {
            "tags": [],
            "needs_background": "light"
          }
        }
      ]
    },
    {
      "cell_type": "markdown",
      "metadata": {
        "id": "pGn4NAO38HbI"
      },
      "source": [
        "Just like in the off-the-shelf machine learning models, the gentrification period between 2011 and 2016 shows a poorer performance."
      ]
    },
    {
      "cell_type": "code",
      "metadata": {
        "id": "0YmCI-QB5g0B"
      },
      "source": [
        ""
      ],
      "execution_count": null,
      "outputs": []
    }
  ]
}